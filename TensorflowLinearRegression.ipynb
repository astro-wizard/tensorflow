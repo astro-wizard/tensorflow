{
  "nbformat": 4,
  "nbformat_minor": 0,
  "metadata": {
    "colab": {
      "name": "TensorflowLinearRegression.ipynb",
      "provenance": [],
      "authorship_tag": "ABX9TyM2m+j8qPxQtdztd4Y594z9",
      "include_colab_link": true
    },
    "kernelspec": {
      "name": "python3",
      "display_name": "Python 3"
    },
    "language_info": {
      "name": "python"
    }
  },
  "cells": [
    {
      "cell_type": "markdown",
      "metadata": {
        "id": "view-in-github",
        "colab_type": "text"
      },
      "source": [
        "<a href=\"https://colab.research.google.com/github/prt180/tensorflow/blob/main/TensorflowLinearRegression.ipynb\" target=\"_parent\"><img src=\"https://colab.research.google.com/assets/colab-badge.svg\" alt=\"Open In Colab\"/></a>"
      ]
    },
    {
      "cell_type": "code",
      "execution_count": 1,
      "metadata": {
        "id": "iK-zdeyaLc0f"
      },
      "outputs": [],
      "source": [
        "import pandas as pd\n",
        "import tensorflow as tf\n",
        "import numpy as np\n",
        "import matplotlib.pyplot as plt"
      ]
    },
    {
      "cell_type": "markdown",
      "source": [
        "Introduction to Regression with Neural Networks in Tf."
      ],
      "metadata": {
        "id": "k0H0pxsiLkiC"
      }
    },
    {
      "cell_type": "code",
      "source": [
        "print(tf.__version__)"
      ],
      "metadata": {
        "colab": {
          "base_uri": "https://localhost:8080/"
        },
        "id": "82bYtQPiP02-",
        "outputId": "c4965676-04e5-4e58-8cb7-a5b4abe6e6c0"
      },
      "execution_count": 2,
      "outputs": [
        {
          "output_type": "stream",
          "name": "stdout",
          "text": [
            "2.8.2\n"
          ]
        }
      ]
    },
    {
      "cell_type": "markdown",
      "source": [
        "Creating Data to view and fit."
      ],
      "metadata": {
        "id": "ASGNEAdzQB_t"
      }
    },
    {
      "cell_type": "code",
      "source": [
        "# Create feaures\n",
        "X = np.array([-7.0, -4.0, -1.0, 2.0, 5.0, 8.0, 11.0, 14.0])\n",
        "\n",
        "# Create labels\n",
        "y = np.array([3.0, 6.0, 9.0, 12.0, 15.0, 18.0, 21.0, 24.0])\n",
        "\n",
        "# Visualize it\n",
        "plt.scatter(X, y)\n"
      ],
      "metadata": {
        "colab": {
          "base_uri": "https://localhost:8080/",
          "height": 286
        },
        "id": "L7Osx4a-QPQb",
        "outputId": "55a3b958-79a3-431c-a6fb-6a51380bef20"
      },
      "execution_count": 3,
      "outputs": [
        {
          "output_type": "execute_result",
          "data": {
            "text/plain": [
              "<matplotlib.collections.PathCollection at 0x7f93952fab90>"
            ]
          },
          "metadata": {},
          "execution_count": 3
        },
        {
          "output_type": "display_data",
          "data": {
            "text/plain": [
              "<Figure size 432x288 with 1 Axes>"
            ],
            "image/png": "[encoded data removed]"
          },
          "metadata": {
            "needs_background": "light"
          }
        }
      ]
    },
    {
      "cell_type": "code",
      "source": [
        "y = X + 10"
      ],
      "metadata": {
        "id": "Wk4GvcHfQ5tB"
      },
      "execution_count": 4,
      "outputs": []
    },
    {
      "cell_type": "markdown",
      "source": [
        "Input and output shapes"
      ],
      "metadata": {
        "id": "LWLyTlXLQ9_e"
      }
    },
    {
      "cell_type": "code",
      "source": [
        "# Create a demo tensor for housing price prediction problem\n",
        "house_info = tf.constant([\"bedrrom\", \"bathroom\", \"garage\"])\n",
        "house_price = tf.constant([939700])\n",
        "house_info, house_price"
      ],
      "metadata": {
        "colab": {
          "base_uri": "https://localhost:8080/"
        },
        "id": "pIAKoLw2RHJ9",
        "outputId": "575f2731-80d8-4acd-bf29-a1e93e259077"
      },
      "execution_count": 5,
      "outputs": [
        {
          "output_type": "execute_result",
          "data": {
            "text/plain": [
              "(<tf.Tensor: shape=(3,), dtype=string, numpy=array([b'bedrrom', b'bathroom', b'garage'], dtype=object)>,\n",
              " <tf.Tensor: shape=(1,), dtype=int32, numpy=array([939700], dtype=int32)>)"
            ]
          },
          "metadata": {},
          "execution_count": 5
        }
      ]
    },
    {
      "cell_type": "code",
      "source": [
        "X.shape, y.shape"
      ],
      "metadata": {
        "colab": {
          "base_uri": "https://localhost:8080/"
        },
        "id": "dIoB579LRcId",
        "outputId": "13fcd6e3-f423-45bb-afe2-38696cdac6f4"
      },
      "execution_count": 6,
      "outputs": [
        {
          "output_type": "execute_result",
          "data": {
            "text/plain": [
              "((8,), (8,))"
            ]
          },
          "metadata": {},
          "execution_count": 6
        }
      ]
    },
    {
      "cell_type": "code",
      "source": [
        "X.ndim"
      ],
      "metadata": {
        "colab": {
          "base_uri": "https://localhost:8080/"
        },
        "id": "ED6J6SiERq6G",
        "outputId": "f78b1c98-46e7-436a-b38f-29d317645173"
      },
      "execution_count": 7,
      "outputs": [
        {
          "output_type": "execute_result",
          "data": {
            "text/plain": [
              "1"
            ]
          },
          "metadata": {},
          "execution_count": 7
        }
      ]
    },
    {
      "cell_type": "code",
      "source": [
        "X[0].shape, X[0].ndim"
      ],
      "metadata": {
        "colab": {
          "base_uri": "https://localhost:8080/"
        },
        "id": "Gyh1jI-DSCjV",
        "outputId": "5d2864ef-86dc-4487-b1c7-fe8bc6ee57e3"
      },
      "execution_count": 8,
      "outputs": [
        {
          "output_type": "execute_result",
          "data": {
            "text/plain": [
              "((), 0)"
            ]
          },
          "metadata": {},
          "execution_count": 8
        }
      ]
    },
    {
      "cell_type": "code",
      "source": [
        "# Turn on NumPy arrays into tensors \n",
        "X = tf.constant(X)\n",
        "y = tf.constant(y)\n",
        "X, y"
      ],
      "metadata": {
        "colab": {
          "base_uri": "https://localhost:8080/"
        },
        "id": "7JIqkxAeSHPu",
        "outputId": "8ad1ce78-a2eb-42ee-de2f-99e0ea600fef"
      },
      "execution_count": 9,
      "outputs": [
        {
          "output_type": "execute_result",
          "data": {
            "text/plain": [
              "(<tf.Tensor: shape=(8,), dtype=float64, numpy=array([-7., -4., -1.,  2.,  5.,  8., 11., 14.])>,\n",
              " <tf.Tensor: shape=(8,), dtype=float64, numpy=array([ 3.,  6.,  9., 12., 15., 18., 21., 24.])>)"
            ]
          },
          "metadata": {},
          "execution_count": 9
        }
      ]
    },
    {
      "cell_type": "code",
      "source": [
        "X[0].shape, y[0].shape"
      ],
      "metadata": {
        "colab": {
          "base_uri": "https://localhost:8080/"
        },
        "id": "XbAyan6jS2eE",
        "outputId": "dca43824-a7ec-4a87-cc8a-4dea3d8584e7"
      },
      "execution_count": 10,
      "outputs": [
        {
          "output_type": "execute_result",
          "data": {
            "text/plain": [
              "(TensorShape([]), TensorShape([]))"
            ]
          },
          "metadata": {},
          "execution_count": 10
        }
      ]
    },
    {
      "cell_type": "code",
      "source": [
        "plt.scatter(X, y)"
      ],
      "metadata": {
        "colab": {
          "base_uri": "https://localhost:8080/",
          "height": 286
        },
        "id": "jTl_fxYATAny",
        "outputId": "412da0b4-4e92-4bf5-aa55-d842cf46c9e3"
      },
      "execution_count": 11,
      "outputs": [
        {
          "output_type": "execute_result",
          "data": {
            "text/plain": [
              "<matplotlib.collections.PathCollection at 0x7f93952b6f90>"
            ]
          },
          "metadata": {},
          "execution_count": 11
        },
        {
          "output_type": "display_data",
          "data": {
            "text/plain": [
              "<Figure size 432x288 with 1 Axes>"
            ],
            "image/png": "[encoded data removed]"
          },
          "metadata": {
            "needs_background": "light"
          }
        }
      ]
    },
    {
      "cell_type": "markdown",
      "source": [
        "## Steps in modelling with Tensorflow"
      ],
      "metadata": {
        "id": "_cbEs0EWTG21"
      }
    },
    {
      "cell_type": "code",
      "source": [
        "# Set random seed\n",
        "tf.random.set_seed(42)\n",
        "\n",
        "model = tf.keras.Sequential([\n",
        "    tf.keras.layers.Dense(1)\n",
        "])\n",
        "\n",
        "model.compile(loss=tf.keras.losses.MAE, \n",
        "              optimizer=tf.keras.optimizers.SGD(lr=0.01),\n",
        "              metrics=[\"mae\"])\n",
        "\n",
        "model.fit(tf.expand_dims(X, axis=-1), y, epochs=5)"
      ],
      "metadata": {
        "colab": {
          "base_uri": "https://localhost:8080/"
        },
        "id": "9vcn9ok3TfL5",
        "outputId": "3082b07b-6964-4503-8b89-e5f3ced6e209"
      },
      "execution_count": 12,
      "outputs": [
        {
          "output_type": "stream",
          "name": "stdout",
          "text": [
            "Epoch 1/5\n"
          ]
        },
        {
          "output_type": "stream",
          "name": "stderr",
          "text": [
            "/usr/local/lib/python3.7/dist-packages/keras/optimizer_v2/gradient_descent.py:102: UserWarning: The `lr` argument is deprecated, use `learning_rate` instead.\n",
            "  super(SGD, self).__init__(name, **kwargs)\n"
          ]
        },
        {
          "output_type": "stream",
          "name": "stdout",
          "text": [
            "1/1 [==============================] - 1s 521ms/step - loss: 11.5048 - mae: 11.5048\n",
            "Epoch 2/5\n",
            "1/1 [==============================] - 0s 10ms/step - loss: 11.3723 - mae: 11.3723\n",
            "Epoch 3/5\n",
            "1/1 [==============================] - 0s 9ms/step - loss: 11.2398 - mae: 11.2398\n",
            "Epoch 4/5\n",
            "1/1 [==============================] - 0s 30ms/step - loss: 11.1073 - mae: 11.1073\n",
            "Epoch 5/5\n",
            "1/1 [==============================] - 0s 6ms/step - loss: 10.9748 - mae: 10.9748\n"
          ]
        },
        {
          "output_type": "execute_result",
          "data": {
            "text/plain": [
              "<keras.callbacks.History at 0x7f9390f3b3d0>"
            ]
          },
          "metadata": {},
          "execution_count": 12
        }
      ]
    },
    {
      "cell_type": "code",
      "source": [
        "# Check X and y\n",
        "X, y"
      ],
      "metadata": {
        "colab": {
          "base_uri": "https://localhost:8080/"
        },
        "id": "jhAXpmUxVgiw",
        "outputId": "b851f521-2a1e-4f6f-9352-804e931ff99b"
      },
      "execution_count": 13,
      "outputs": [
        {
          "output_type": "execute_result",
          "data": {
            "text/plain": [
              "(<tf.Tensor: shape=(8,), dtype=float64, numpy=array([-7., -4., -1.,  2.,  5.,  8., 11., 14.])>,\n",
              " <tf.Tensor: shape=(8,), dtype=float64, numpy=array([ 3.,  6.,  9., 12., 15., 18., 21., 24.])>)"
            ]
          },
          "metadata": {},
          "execution_count": 13
        }
      ]
    },
    {
      "cell_type": "code",
      "source": [
        "y_pred = model.predict([17.0])\n",
        "y_pred"
      ],
      "metadata": {
        "colab": {
          "base_uri": "https://localhost:8080/"
        },
        "id": "Y_kvYYLGXFr-",
        "outputId": "977f4c8b-e732-489b-f032-ff30ef5a7ef1"
      },
      "execution_count": 14,
      "outputs": [
        {
          "output_type": "execute_result",
          "data": {
            "text/plain": [
              "array([[12.716021]], dtype=float32)"
            ]
          },
          "metadata": {},
          "execution_count": 14
        }
      ]
    },
    {
      "cell_type": "code",
      "source": [
        "y_pred + 11"
      ],
      "metadata": {
        "colab": {
          "base_uri": "https://localhost:8080/"
        },
        "id": "KNI-bUJoXLLd",
        "outputId": "6b1b69a4-14d9-4757-d6c6-3244b4010e59"
      },
      "execution_count": 15,
      "outputs": [
        {
          "output_type": "execute_result",
          "data": {
            "text/plain": [
              "array([[23.71602]], dtype=float32)"
            ]
          },
          "metadata": {},
          "execution_count": 15
        }
      ]
    },
    {
      "cell_type": "markdown",
      "source": [
        "# Improving a model\n",
        "We can improve our model, by altering the steps we took to create model.\n",
        "1. adding more hidden layers or adding more neurons.\n",
        "2. altering optimization function\n",
        "3. fit model for more epochs "
      ],
      "metadata": {
        "id": "gsInCl_RXlgG"
      }
    },
    {
      "cell_type": "code",
      "source": [
        "model2 = tf.keras.Sequential([\n",
        "    tf.keras.layers.Dense(100, activation=None),\n",
        "    tf.keras.layers.Dense(100, activation=None),\n",
        "    tf.keras.layers.Dense(1)\n",
        "])\n",
        "\n",
        "model2.compile(loss=tf.keras.losses.mae,\n",
        "              optimizer=tf.keras.optimizers.Adam(lr=0.001),\n",
        "              metrics=[\"mae\"]\n",
        "              )\n",
        "\n",
        "model2.fit(tf.expand_dims(X, axis=-1), y, epochs=100)"
      ],
      "metadata": {
        "colab": {
          "base_uri": "https://localhost:8080/"
        },
        "id": "KRKzBQdCYa0g",
        "outputId": "379b26d0-9231-4285-e97c-b54cf22e5eab"
      },
      "execution_count": 16,
      "outputs": [
        {
          "output_type": "stream",
          "name": "stdout",
          "text": [
            "Epoch 1/100\n"
          ]
        },
        {
          "output_type": "stream",
          "name": "stderr",
          "text": [
            "/usr/local/lib/python3.7/dist-packages/keras/optimizer_v2/adam.py:105: UserWarning: The `lr` argument is deprecated, use `learning_rate` instead.\n",
            "  super(Adam, self).__init__(name, **kwargs)\n"
          ]
        },
        {
          "output_type": "stream",
          "name": "stdout",
          "text": [
            "1/1 [==============================] - 1s 881ms/step - loss: 14.0765 - mae: 14.0765\n",
            "Epoch 2/100\n",
            "1/1 [==============================] - 0s 20ms/step - loss: 13.4881 - mae: 13.4881\n",
            "Epoch 3/100\n",
            "1/1 [==============================] - 0s 19ms/step - loss: 12.9020 - mae: 12.9020\n",
            "Epoch 4/100\n",
            "1/1 [==============================] - 0s 8ms/step - loss: 12.3165 - mae: 12.3165\n",
            "Epoch 5/100\n",
            "1/1 [==============================] - 0s 8ms/step - loss: 11.7299 - mae: 11.7299\n",
            "Epoch 6/100\n",
            "1/1 [==============================] - 0s 8ms/step - loss: 11.1404 - mae: 11.1404\n",
            "Epoch 7/100\n",
            "1/1 [==============================] - 0s 9ms/step - loss: 10.5465 - mae: 10.5465\n",
            "Epoch 8/100\n",
            "1/1 [==============================] - 0s 8ms/step - loss: 9.9469 - mae: 9.9469\n",
            "Epoch 9/100\n",
            "1/1 [==============================] - 0s 9ms/step - loss: 9.3402 - mae: 9.3402\n",
            "Epoch 10/100\n",
            "1/1 [==============================] - 0s 9ms/step - loss: 8.7252 - mae: 8.7252\n",
            "Epoch 11/100\n",
            "1/1 [==============================] - 0s 8ms/step - loss: 8.1007 - mae: 8.1007\n",
            "Epoch 12/100\n",
            "1/1 [==============================] - 0s 22ms/step - loss: 7.4655 - mae: 7.4655\n",
            "Epoch 13/100\n",
            "1/1 [==============================] - 0s 10ms/step - loss: 7.2586 - mae: 7.2586\n",
            "Epoch 14/100\n",
            "1/1 [==============================] - 0s 17ms/step - loss: 7.5102 - mae: 7.5102\n",
            "Epoch 15/100\n",
            "1/1 [==============================] - 0s 11ms/step - loss: 7.8235 - mae: 7.8235\n",
            "Epoch 16/100\n",
            "1/1 [==============================] - 0s 7ms/step - loss: 8.0392 - mae: 8.0392\n",
            "Epoch 17/100\n",
            "1/1 [==============================] - 0s 7ms/step - loss: 8.2516 - mae: 8.2516\n",
            "Epoch 18/100\n",
            "1/1 [==============================] - 0s 7ms/step - loss: 8.2943 - mae: 8.2943\n",
            "Epoch 19/100\n",
            "1/1 [==============================] - 0s 7ms/step - loss: 8.1807 - mae: 8.1807\n",
            "Epoch 20/100\n",
            "1/1 [==============================] - 0s 7ms/step - loss: 7.9660 - mae: 7.9660\n",
            "Epoch 21/100\n",
            "1/1 [==============================] - 0s 7ms/step - loss: 7.7926 - mae: 7.7926\n",
            "Epoch 22/100\n",
            "1/1 [==============================] - 0s 16ms/step - loss: 7.5949 - mae: 7.5949\n",
            "Epoch 23/100\n",
            "1/1 [==============================] - 0s 13ms/step - loss: 7.3770 - mae: 7.3770\n",
            "Epoch 24/100\n",
            "1/1 [==============================] - 0s 15ms/step - loss: 7.1426 - mae: 7.1426\n",
            "Epoch 25/100\n",
            "1/1 [==============================] - 0s 18ms/step - loss: 7.0400 - mae: 7.0400\n",
            "Epoch 26/100\n",
            "1/1 [==============================] - 0s 11ms/step - loss: 7.0277 - mae: 7.0277\n",
            "Epoch 27/100\n",
            "1/1 [==============================] - 0s 17ms/step - loss: 7.0676 - mae: 7.0676\n",
            "Epoch 28/100\n",
            "1/1 [==============================] - 0s 16ms/step - loss: 7.1974 - mae: 7.1974\n",
            "Epoch 29/100\n",
            "1/1 [==============================] - 0s 15ms/step - loss: 7.2436 - mae: 7.2436\n",
            "Epoch 30/100\n",
            "1/1 [==============================] - 0s 23ms/step - loss: 7.2168 - mae: 7.2168\n",
            "Epoch 31/100\n",
            "1/1 [==============================] - 0s 8ms/step - loss: 7.1251 - mae: 7.1251\n",
            "Epoch 32/100\n",
            "1/1 [==============================] - 0s 11ms/step - loss: 6.9754 - mae: 6.9754\n",
            "Epoch 33/100\n",
            "1/1 [==============================] - 0s 24ms/step - loss: 6.8879 - mae: 6.8879\n",
            "Epoch 34/100\n",
            "1/1 [==============================] - 0s 11ms/step - loss: 6.8609 - mae: 6.8609\n",
            "Epoch 35/100\n",
            "1/1 [==============================] - 0s 12ms/step - loss: 6.8338 - mae: 6.8338\n",
            "Epoch 36/100\n",
            "1/1 [==============================] - 0s 8ms/step - loss: 6.8065 - mae: 6.8065\n",
            "Epoch 37/100\n",
            "1/1 [==============================] - 0s 7ms/step - loss: 6.8479 - mae: 6.8479\n",
            "Epoch 38/100\n",
            "1/1 [==============================] - 0s 8ms/step - loss: 6.8792 - mae: 6.8792\n",
            "Epoch 39/100\n",
            "1/1 [==============================] - 0s 9ms/step - loss: 6.8678 - mae: 6.8678\n",
            "Epoch 40/100\n",
            "1/1 [==============================] - 0s 32ms/step - loss: 6.8181 - mae: 6.8181\n",
            "Epoch 41/100\n",
            "1/1 [==============================] - 0s 7ms/step - loss: 6.7342 - mae: 6.7342\n",
            "Epoch 42/100\n",
            "1/1 [==============================] - 0s 21ms/step - loss: 6.6750 - mae: 6.6750\n",
            "Epoch 43/100\n",
            "1/1 [==============================] - 0s 15ms/step - loss: 6.6576 - mae: 6.6576\n",
            "Epoch 44/100\n",
            "1/1 [==============================] - 0s 7ms/step - loss: 6.6394 - mae: 6.6394\n",
            "Epoch 45/100\n",
            "1/1 [==============================] - 0s 22ms/step - loss: 6.6204 - mae: 6.6204\n",
            "Epoch 46/100\n",
            "1/1 [==============================] - 0s 16ms/step - loss: 6.6007 - mae: 6.6007\n",
            "Epoch 47/100\n",
            "1/1 [==============================] - 0s 14ms/step - loss: 6.5802 - mae: 6.5802\n",
            "Epoch 48/100\n",
            "1/1 [==============================] - 0s 8ms/step - loss: 6.5589 - mae: 6.5589\n",
            "Epoch 49/100\n",
            "1/1 [==============================] - 0s 11ms/step - loss: 6.5369 - mae: 6.5369\n",
            "Epoch 50/100\n",
            "1/1 [==============================] - 0s 9ms/step - loss: 6.5368 - mae: 6.5368\n",
            "Epoch 51/100\n",
            "1/1 [==============================] - 0s 7ms/step - loss: 6.4867 - mae: 6.4867\n",
            "Epoch 52/100\n",
            "1/1 [==============================] - 0s 10ms/step - loss: 6.4587 - mae: 6.4587\n",
            "Epoch 53/100\n",
            "1/1 [==============================] - 0s 11ms/step - loss: 6.4301 - mae: 6.4301\n",
            "Epoch 54/100\n",
            "1/1 [==============================] - 0s 8ms/step - loss: 6.4010 - mae: 6.4010\n",
            "Epoch 55/100\n",
            "1/1 [==============================] - 0s 9ms/step - loss: 6.3712 - mae: 6.3712\n",
            "Epoch 56/100\n",
            "1/1 [==============================] - 0s 11ms/step - loss: 6.3409 - mae: 6.3409\n",
            "Epoch 57/100\n",
            "1/1 [==============================] - 0s 14ms/step - loss: 6.3098 - mae: 6.3098\n",
            "Epoch 58/100\n",
            "1/1 [==============================] - 0s 9ms/step - loss: 6.2781 - mae: 6.2781\n",
            "Epoch 59/100\n",
            "1/1 [==============================] - 0s 9ms/step - loss: 6.2456 - mae: 6.2456\n",
            "Epoch 60/100\n",
            "1/1 [==============================] - 0s 9ms/step - loss: 6.2124 - mae: 6.2124\n",
            "Epoch 61/100\n",
            "1/1 [==============================] - 0s 10ms/step - loss: 6.1783 - mae: 6.1783\n",
            "Epoch 62/100\n",
            "1/1 [==============================] - 0s 9ms/step - loss: 6.1435 - mae: 6.1435\n",
            "Epoch 63/100\n",
            "1/1 [==============================] - 0s 26ms/step - loss: 6.1331 - mae: 6.1331\n",
            "Epoch 64/100\n",
            "1/1 [==============================] - 0s 26ms/step - loss: 6.0948 - mae: 6.0948\n",
            "Epoch 65/100\n",
            "1/1 [==============================] - 0s 26ms/step - loss: 6.0489 - mae: 6.0489\n",
            "Epoch 66/100\n",
            "1/1 [==============================] - 0s 11ms/step - loss: 6.0200 - mae: 6.0200\n",
            "Epoch 67/100\n",
            "1/1 [==============================] - 0s 11ms/step - loss: 5.9894 - mae: 5.9894\n",
            "Epoch 68/100\n",
            "1/1 [==============================] - 0s 11ms/step - loss: 5.9574 - mae: 5.9574\n",
            "Epoch 69/100\n",
            "1/1 [==============================] - 0s 17ms/step - loss: 5.9238 - mae: 5.9238\n",
            "Epoch 70/100\n",
            "1/1 [==============================] - 0s 25ms/step - loss: 5.8887 - mae: 5.8887\n",
            "Epoch 71/100\n",
            "1/1 [==============================] - 0s 37ms/step - loss: 5.8521 - mae: 5.8521\n",
            "Epoch 72/100\n",
            "1/1 [==============================] - 0s 31ms/step - loss: 5.8139 - mae: 5.8139\n",
            "Epoch 73/100\n",
            "1/1 [==============================] - 0s 17ms/step - loss: 5.7742 - mae: 5.7742\n",
            "Epoch 74/100\n",
            "1/1 [==============================] - 0s 16ms/step - loss: 5.7330 - mae: 5.7330\n",
            "Epoch 75/100\n",
            "1/1 [==============================] - 0s 16ms/step - loss: 5.6902 - mae: 5.6902\n",
            "Epoch 76/100\n",
            "1/1 [==============================] - 0s 17ms/step - loss: 5.6457 - mae: 5.6457\n",
            "Epoch 77/100\n",
            "1/1 [==============================] - 0s 17ms/step - loss: 5.5997 - mae: 5.5997\n",
            "Epoch 78/100\n",
            "1/1 [==============================] - 0s 16ms/step - loss: 5.5519 - mae: 5.5519\n",
            "Epoch 79/100\n",
            "1/1 [==============================] - 0s 20ms/step - loss: 5.5025 - mae: 5.5025\n",
            "Epoch 80/100\n",
            "1/1 [==============================] - 0s 13ms/step - loss: 5.4911 - mae: 5.4911\n",
            "Epoch 81/100\n",
            "1/1 [==============================] - 0s 21ms/step - loss: 5.4261 - mae: 5.4261\n",
            "Epoch 82/100\n",
            "1/1 [==============================] - 0s 20ms/step - loss: 5.3660 - mae: 5.3660\n",
            "Epoch 83/100\n",
            "1/1 [==============================] - 0s 17ms/step - loss: 5.3232 - mae: 5.3232\n",
            "Epoch 84/100\n",
            "1/1 [==============================] - 0s 14ms/step - loss: 5.2775 - mae: 5.2775\n",
            "Epoch 85/100\n",
            "1/1 [==============================] - 0s 13ms/step - loss: 5.2291 - mae: 5.2291\n",
            "Epoch 86/100\n",
            "1/1 [==============================] - 0s 14ms/step - loss: 5.1780 - mae: 5.1780\n",
            "Epoch 87/100\n",
            "1/1 [==============================] - 0s 16ms/step - loss: 5.1241 - mae: 5.1241\n",
            "Epoch 88/100\n",
            "1/1 [==============================] - 0s 14ms/step - loss: 5.0675 - mae: 5.0675\n",
            "Epoch 89/100\n",
            "1/1 [==============================] - 0s 16ms/step - loss: 5.0082 - mae: 5.0082\n",
            "Epoch 90/100\n",
            "1/1 [==============================] - 0s 17ms/step - loss: 4.9461 - mae: 4.9461\n",
            "Epoch 91/100\n",
            "1/1 [==============================] - 0s 13ms/step - loss: 4.8813 - mae: 4.8813\n",
            "Epoch 92/100\n",
            "1/1 [==============================] - 0s 19ms/step - loss: 4.8136 - mae: 4.8136\n",
            "Epoch 93/100\n",
            "1/1 [==============================] - 0s 31ms/step - loss: 4.7431 - mae: 4.7431\n",
            "Epoch 94/100\n",
            "1/1 [==============================] - 0s 34ms/step - loss: 4.6696 - mae: 4.6696\n",
            "Epoch 95/100\n",
            "1/1 [==============================] - 0s 19ms/step - loss: 4.5932 - mae: 4.5932\n",
            "Epoch 96/100\n",
            "1/1 [==============================] - 0s 34ms/step - loss: 4.5137 - mae: 4.5137\n",
            "Epoch 97/100\n",
            "1/1 [==============================] - 0s 18ms/step - loss: 4.4812 - mae: 4.4812\n",
            "Epoch 98/100\n",
            "1/1 [==============================] - 0s 12ms/step - loss: 4.3853 - mae: 4.3853\n",
            "Epoch 99/100\n",
            "1/1 [==============================] - 0s 20ms/step - loss: 4.2876 - mae: 4.2876\n",
            "Epoch 100/100\n",
            "1/1 [==============================] - 0s 11ms/step - loss: 4.2144 - mae: 4.2144\n"
          ]
        },
        {
          "output_type": "execute_result",
          "data": {
            "text/plain": [
              "<keras.callbacks.History at 0x7f9390e79a50>"
            ]
          },
          "metadata": {},
          "execution_count": 16
        }
      ]
    },
    {
      "cell_type": "code",
      "source": [
        "y2_pred = model2.predict([17.0])\n",
        "y2_pred"
      ],
      "metadata": {
        "colab": {
          "base_uri": "https://localhost:8080/"
        },
        "id": "aw5pRLRoamLR",
        "outputId": "e308d538-76cc-441e-e555-8627cffc8eda"
      },
      "execution_count": 17,
      "outputs": [
        {
          "output_type": "execute_result",
          "data": {
            "text/plain": [
              "array([[28.825218]], dtype=float32)"
            ]
          },
          "metadata": {},
          "execution_count": 17
        }
      ]
    },
    {
      "cell_type": "code",
      "source": [
        "X, y\n"
      ],
      "metadata": {
        "colab": {
          "base_uri": "https://localhost:8080/"
        },
        "id": "sDksNV67blis",
        "outputId": "68acd3c5-713f-4720-b058-ce30907c52d1"
      },
      "execution_count": 18,
      "outputs": [
        {
          "output_type": "execute_result",
          "data": {
            "text/plain": [
              "(<tf.Tensor: shape=(8,), dtype=float64, numpy=array([-7., -4., -1.,  2.,  5.,  8., 11., 14.])>,\n",
              " <tf.Tensor: shape=(8,), dtype=float64, numpy=array([ 3.,  6.,  9., 12., 15., 18., 21., 24.])>)"
            ]
          },
          "metadata": {},
          "execution_count": 18
        }
      ]
    },
    {
      "cell_type": "markdown",
      "source": [
        "Evaluting a model\n",
        "\n",
        "visualize, visualize, visualize\n",
        "1. Visualize data\n",
        "2. Visualize model\n",
        "3. visualize training model\n",
        "4. visualize prediction  "
      ],
      "metadata": {
        "id": "z1_jLbq6dAuv"
      }
    },
    {
      "cell_type": "code",
      "source": [
        "# Make a bigger dataset\n",
        "X = tf.range(-100, 100, 4)\n",
        "X"
      ],
      "metadata": {
        "colab": {
          "base_uri": "https://localhost:8080/"
        },
        "id": "kGXflIrFgWOk",
        "outputId": "cd77691a-c95d-443b-8f47-7740d47aca6e"
      },
      "execution_count": 19,
      "outputs": [
        {
          "output_type": "execute_result",
          "data": {
            "text/plain": [
              "<tf.Tensor: shape=(50,), dtype=int32, numpy=\n",
              "array([-100,  -96,  -92,  -88,  -84,  -80,  -76,  -72,  -68,  -64,  -60,\n",
              "        -56,  -52,  -48,  -44,  -40,  -36,  -32,  -28,  -24,  -20,  -16,\n",
              "        -12,   -8,   -4,    0,    4,    8,   12,   16,   20,   24,   28,\n",
              "         32,   36,   40,   44,   48,   52,   56,   60,   64,   68,   72,\n",
              "         76,   80,   84,   88,   92,   96], dtype=int32)>"
            ]
          },
          "metadata": {},
          "execution_count": 19
        }
      ]
    },
    {
      "cell_type": "code",
      "source": [
        "y = X + 10\n",
        "y"
      ],
      "metadata": {
        "colab": {
          "base_uri": "https://localhost:8080/"
        },
        "id": "i78ddlNCg1gk",
        "outputId": "bef6ebec-bf65-4b11-ae57-d55cd040485e"
      },
      "execution_count": 20,
      "outputs": [
        {
          "output_type": "execute_result",
          "data": {
            "text/plain": [
              "<tf.Tensor: shape=(50,), dtype=int32, numpy=\n",
              "array([-90, -86, -82, -78, -74, -70, -66, -62, -58, -54, -50, -46, -42,\n",
              "       -38, -34, -30, -26, -22, -18, -14, -10,  -6,  -2,   2,   6,  10,\n",
              "        14,  18,  22,  26,  30,  34,  38,  42,  46,  50,  54,  58,  62,\n",
              "        66,  70,  74,  78,  82,  86,  90,  94,  98, 102, 106], dtype=int32)>"
            ]
          },
          "metadata": {},
          "execution_count": 20
        }
      ]
    },
    {
      "cell_type": "code",
      "source": [
        "# Visualize a data\n",
        "plt.scatter(X, y)"
      ],
      "metadata": {
        "colab": {
          "base_uri": "https://localhost:8080/",
          "height": 282
        },
        "id": "bW0D8KCcg5gr",
        "outputId": "268df24e-8de2-47ad-a81a-78ba152e9afd"
      },
      "execution_count": 21,
      "outputs": [
        {
          "output_type": "execute_result",
          "data": {
            "text/plain": [
              "<matplotlib.collections.PathCollection at 0x7f9390860210>"
            ]
          },
          "metadata": {},
          "execution_count": 21
        },
        {
          "output_type": "display_data",
          "data": {
            "text/plain": [
              "<Figure size 432x288 with 1 Axes>"
            ],
            "image/png": "[encoded data removed]"
          },
          "metadata": {
            "needs_background": "light"
          }
        }
      ]
    },
    {
      "cell_type": "markdown",
      "source": [
        "### The 3 sets...\n",
        "\n",
        "* Training set \n",
        "* Validation set\n",
        "* Test set"
      ],
      "metadata": {
        "id": "lgCgp8qShBJU"
      }
    },
    {
      "cell_type": "code",
      "source": [
        "len(X)\n",
        "X"
      ],
      "metadata": {
        "colab": {
          "base_uri": "https://localhost:8080/"
        },
        "id": "9WYHYjsxh5KE",
        "outputId": "d55b7ec0-1a69-4da0-8b6a-6ae9d9d80df3"
      },
      "execution_count": 22,
      "outputs": [
        {
          "output_type": "execute_result",
          "data": {
            "text/plain": [
              "<tf.Tensor: shape=(50,), dtype=int32, numpy=\n",
              "array([-100,  -96,  -92,  -88,  -84,  -80,  -76,  -72,  -68,  -64,  -60,\n",
              "        -56,  -52,  -48,  -44,  -40,  -36,  -32,  -28,  -24,  -20,  -16,\n",
              "        -12,   -8,   -4,    0,    4,    8,   12,   16,   20,   24,   28,\n",
              "         32,   36,   40,   44,   48,   52,   56,   60,   64,   68,   72,\n",
              "         76,   80,   84,   88,   92,   96], dtype=int32)>"
            ]
          },
          "metadata": {},
          "execution_count": 22
        }
      ]
    },
    {
      "cell_type": "code",
      "source": [
        "X_train = X[:40]\n",
        "y_train = y[:40]\n",
        "X_test = X[40:]\n",
        "y_test = y[40:]\n",
        "X_train, y_train, X_test, y_test"
      ],
      "metadata": {
        "colab": {
          "base_uri": "https://localhost:8080/"
        },
        "id": "BmVEDq87ikDG",
        "outputId": "79bce3f6-0df6-4f3d-d51c-8b331b69979c"
      },
      "execution_count": 23,
      "outputs": [
        {
          "output_type": "execute_result",
          "data": {
            "text/plain": [
              "(<tf.Tensor: shape=(40,), dtype=int32, numpy=\n",
              " array([-100,  -96,  -92,  -88,  -84,  -80,  -76,  -72,  -68,  -64,  -60,\n",
              "         -56,  -52,  -48,  -44,  -40,  -36,  -32,  -28,  -24,  -20,  -16,\n",
              "         -12,   -8,   -4,    0,    4,    8,   12,   16,   20,   24,   28,\n",
              "          32,   36,   40,   44,   48,   52,   56], dtype=int32)>,\n",
              " <tf.Tensor: shape=(40,), dtype=int32, numpy=\n",
              " array([-90, -86, -82, -78, -74, -70, -66, -62, -58, -54, -50, -46, -42,\n",
              "        -38, -34, -30, -26, -22, -18, -14, -10,  -6,  -2,   2,   6,  10,\n",
              "         14,  18,  22,  26,  30,  34,  38,  42,  46,  50,  54,  58,  62,\n",
              "         66], dtype=int32)>,\n",
              " <tf.Tensor: shape=(10,), dtype=int32, numpy=array([60, 64, 68, 72, 76, 80, 84, 88, 92, 96], dtype=int32)>,\n",
              " <tf.Tensor: shape=(10,), dtype=int32, numpy=array([ 70,  74,  78,  82,  86,  90,  94,  98, 102, 106], dtype=int32)>)"
            ]
          },
          "metadata": {},
          "execution_count": 23
        }
      ]
    },
    {
      "cell_type": "code",
      "source": [
        "# Visualize \n",
        "plt.figure(figsize=(10, 7))\n",
        "plt.plot(X_train, y_train, c='b', label=\"Training Data\")\n",
        "plt.plot(X_test, y_test, c='g', label=\"Testing Data\")\n",
        "plt.legend()"
      ],
      "metadata": {
        "colab": {
          "base_uri": "https://localhost:8080/",
          "height": 445
        },
        "id": "GcFlHx3Ziz1P",
        "outputId": "831f4f47-4649-4654-bcbd-2caa9ce627f4"
      },
      "execution_count": 24,
      "outputs": [
        {
          "output_type": "execute_result",
          "data": {
            "text/plain": [
              "<matplotlib.legend.Legend at 0x7f9390e799d0>"
            ]
          },
          "metadata": {},
          "execution_count": 24
        },
        {
          "output_type": "display_data",
          "data": {
            "text/plain": [
              "<Figure size 720x504 with 1 Axes>"
            ],
            "image/png": "[encoded data removed]"
          },
          "metadata": {
            "needs_background": "light"
          }
        }
      ]
    },
    {
      "cell_type": "code",
      "source": [
        "model3 = tf.keras.Sequential([\n",
        "    tf.keras.layers.Dense(1)\n",
        "])\n",
        "\n",
        "model3.compile(loss=tf.keras.losses.mae,\n",
        "              optimizer=tf.keras.optimizers.SGD(),\n",
        "              metrics=[\"MAE\"])\n",
        "model3.summary()"
      ],
      "metadata": {
        "colab": {
          "base_uri": "https://localhost:8080/",
          "height": 419
        },
        "id": "6yFEBhQZjVqy",
        "outputId": "7b65fb20-095b-46bc-eb89-70f7f9ef8b3f"
      },
      "execution_count": 25,
      "outputs": [
        {
          "output_type": "error",
          "ename": "ValueError",
          "evalue": "ignored",
          "traceback": [
            "\u001b[0;31m---------------------------------------------------------------------------\u001b[0m",
            "\u001b[0;31mValueError\u001b[0m                                Traceback (most recent call last)",
            "\u001b[0;32m<ipython-input-25-8332299bdaf7>\u001b[0m in \u001b[0;36m<module>\u001b[0;34m\u001b[0m\n\u001b[1;32m      6\u001b[0m               \u001b[0moptimizer\u001b[0m\u001b[0;34m=\u001b[0m\u001b[0mtf\u001b[0m\u001b[0;34m.\u001b[0m\u001b[0mkeras\u001b[0m\u001b[0;34m.\u001b[0m\u001b[0moptimizers\u001b[0m\u001b[0;34m.\u001b[0m\u001b[0mSGD\u001b[0m\u001b[0;34m(\u001b[0m\u001b[0;34m)\u001b[0m\u001b[0;34m,\u001b[0m\u001b[0;34m\u001b[0m\u001b[0;34m\u001b[0m\u001b[0m\n\u001b[1;32m      7\u001b[0m               metrics=[\"MAE\"])\n\u001b[0;32m----> 8\u001b[0;31m \u001b[0mmodel3\u001b[0m\u001b[0;34m.\u001b[0m\u001b[0msummary\u001b[0m\u001b[0;34m(\u001b[0m\u001b[0;34m)\u001b[0m\u001b[0;34m\u001b[0m\u001b[0;34m\u001b[0m\u001b[0m\n\u001b[0m",
            "\u001b[0;32m/usr/local/lib/python3.7/dist-packages/keras/engine/training.py\u001b[0m in \u001b[0;36msummary\u001b[0;34m(self, line_length, positions, print_fn, expand_nested, show_trainable)\u001b[0m\n\u001b[1;32m   2774\u001b[0m     \u001b[0;32mif\u001b[0m \u001b[0;32mnot\u001b[0m \u001b[0mself\u001b[0m\u001b[0;34m.\u001b[0m\u001b[0mbuilt\u001b[0m\u001b[0;34m:\u001b[0m\u001b[0;34m\u001b[0m\u001b[0;34m\u001b[0m\u001b[0m\n\u001b[1;32m   2775\u001b[0m       raise ValueError(\n\u001b[0;32m-> 2776\u001b[0;31m           \u001b[0;34m'This model has not yet been built. '\u001b[0m\u001b[0;34m\u001b[0m\u001b[0;34m\u001b[0m\u001b[0m\n\u001b[0m\u001b[1;32m   2777\u001b[0m           \u001b[0;34m'Build the model first by calling `build()` or by calling '\u001b[0m\u001b[0;34m\u001b[0m\u001b[0;34m\u001b[0m\u001b[0m\n\u001b[1;32m   2778\u001b[0m           'the model on a batch of data.')\n",
            "\u001b[0;31mValueError\u001b[0m: This model has not yet been built. Build the model first by calling `build()` or by calling the model on a batch of data."
          ]
        }
      ]
    },
    {
      "cell_type": "code",
      "source": [
        "# Let's Create a model which builds automatically by defining the input_shape arguments\n",
        "tf.random.set_seed(42)\n",
        "model = tf.keras.Sequential([\n",
        "    tf.keras.layers.Dense(10, input_shape=[1], name=\"input_layer\"),\n",
        "    tf.keras.layers.Dense(1, name=\"output_layer\")\n",
        "], name=\"model_1\")\n",
        "\n",
        "model.compile(loss=tf.keras.losses.mae,\n",
        "              optimizer=tf.keras.optimizers.SGD(),\n",
        "              metrics=[\"mae\"])\n"
      ],
      "metadata": {
        "id": "91I4qVwjJ30e"
      },
      "execution_count": 29,
      "outputs": []
    },
    {
      "cell_type": "code",
      "source": [
        "model.summary()\n"
      ],
      "metadata": {
        "colab": {
          "base_uri": "https://localhost:8080/"
        },
        "id": "Ek2XDQ74KBJG",
        "outputId": "0fed4a26-f436-42c5-c943-d99120ba7ea0"
      },
      "execution_count": 30,
      "outputs": [
        {
          "output_type": "stream",
          "name": "stdout",
          "text": [
            "Model: \"model_1\"\n",
            "_________________________________________________________________\n",
            " Layer (type)                Output Shape              Param #   \n",
            "=================================================================\n",
            " input_layer (Dense)         (None, 10)                20        \n",
            "                                                                 \n",
            " output_layer (Dense)        (None, 1)                 11        \n",
            "                                                                 \n",
            "=================================================================\n",
            "Total params: 31\n",
            "Trainable params: 31\n",
            "Non-trainable params: 0\n",
            "_________________________________________________________________\n"
          ]
        }
      ]
    },
    {
      "cell_type": "code",
      "source": [
        "model.fit(X_train, y_train, epochs = 100, verbose=0) # verbose is for showing output 0- no output 1,2 for output"
      ],
      "metadata": {
        "id": "NOppnlqhKCCY",
        "colab": {
          "base_uri": "https://localhost:8080/"
        },
        "outputId": "401f7917-ce22-47f5-ae49-5246f29b9305"
      },
      "execution_count": 31,
      "outputs": [
        {
          "output_type": "execute_result",
          "data": {
            "text/plain": [
              "<keras.callbacks.History at 0x7f938b215990>"
            ]
          },
          "metadata": {},
          "execution_count": 31
        }
      ]
    },
    {
      "cell_type": "code",
      "source": [
        "model.summary()"
      ],
      "metadata": {
        "colab": {
          "base_uri": "https://localhost:8080/"
        },
        "id": "nwagVQKmVjhX",
        "outputId": "73fb183c-3b93-4bf7-ebd6-2fe568d39edb"
      },
      "execution_count": 32,
      "outputs": [
        {
          "output_type": "stream",
          "name": "stdout",
          "text": [
            "Model: \"model_1\"\n",
            "_________________________________________________________________\n",
            " Layer (type)                Output Shape              Param #   \n",
            "=================================================================\n",
            " input_layer (Dense)         (None, 10)                20        \n",
            "                                                                 \n",
            " output_layer (Dense)        (None, 1)                 11        \n",
            "                                                                 \n",
            "=================================================================\n",
            "Total params: 31\n",
            "Trainable params: 31\n",
            "Non-trainable params: 0\n",
            "_________________________________________________________________\n"
          ]
        }
      ]
    },
    {
      "cell_type": "code",
      "source": [
        "from tensorflow.keras.utils import plot_model\n",
        "plot_model(model=model, show_shapes=True)"
      ],
      "metadata": {
        "colab": {
          "base_uri": "https://localhost:8080/",
          "height": 312
        },
        "id": "4g060FG4VkiQ",
        "outputId": "98faf0ce-29a5-4035-df55-d6ec3d0a5d96"
      },
      "execution_count": 33,
      "outputs": [
        {
          "output_type": "execute_result",
          "data": {
            "image/png": "[encoded data removed]",
            "text/plain": [
              "<IPython.core.display.Image object>"
            ]
          },
          "metadata": {},
          "execution_count": 33
        }
      ]
    },
    {
      "cell_type": "code",
      "source": [
        "y_pred = model.predict(X_test)\n",
        "y_pred, y_test"
      ],
      "metadata": {
        "id": "2-336Wd3Vmdd",
        "colab": {
          "base_uri": "https://localhost:8080/"
        },
        "outputId": "125a22a2-02c3-41c6-97c6-7f13a1f02cf2"
      },
      "execution_count": 34,
      "outputs": [
        {
          "output_type": "execute_result",
          "data": {
            "text/plain": [
              "(array([[ 70.55218 ],\n",
              "        [ 75.13991 ],\n",
              "        [ 79.72763 ],\n",
              "        [ 84.31535 ],\n",
              "        [ 88.903076],\n",
              "        [ 93.49081 ],\n",
              "        [ 98.07853 ],\n",
              "        [102.66625 ],\n",
              "        [107.253975],\n",
              "        [111.8417  ]], dtype=float32),\n",
              " <tf.Tensor: shape=(10,), dtype=int32, numpy=array([ 70,  74,  78,  82,  86,  90,  94,  98, 102, 106], dtype=int32)>)"
            ]
          },
          "metadata": {},
          "execution_count": 34
        }
      ]
    },
    {
      "cell_type": "code",
      "source": [
        "# plotting function\n",
        "def plot_prediction(train_data= X_train,\n",
        "                    train_labels=y_train,\n",
        "                    test_data=X_test,\n",
        "                    test_labels=y_test,\n",
        "                    prediction=y_pred):\n",
        "  plt.figure(figsize=(10, 7))\n",
        "  plt.scatter(train_data, train_labels, c='b', label=\"Training Data\")\n",
        "  plt.scatter(test_data, test_labels, c='g', label= \"Testing Data\")\n",
        "  plt.scatter(test_data, prediction, c='r', label = \"Prediction\")\n",
        "  plt.legend();"
      ],
      "metadata": {
        "id": "34Fn4TT0sPhI"
      },
      "execution_count": 35,
      "outputs": []
    },
    {
      "cell_type": "code",
      "source": [
        "plot_prediction(train_data= X_train,\n",
        "                    train_labels=y_train,\n",
        "                    test_data=X_test,\n",
        "                    test_labels=y_test,\n",
        "                    prediction=y_pred)"
      ],
      "metadata": {
        "colab": {
          "base_uri": "https://localhost:8080/",
          "height": 428
        },
        "id": "upr00d_Augur",
        "outputId": "cf067631-07a6-42e3-c6fb-723153b9102f"
      },
      "execution_count": 36,
      "outputs": [
        {
          "output_type": "display_data",
          "data": {
            "text/plain": [
              "<Figure size 720x504 with 1 Axes>"
            ],
            "image/png": "[encoded data removed]"
          },
          "metadata": {
            "needs_background": "light"
          }
        }
      ]
    },
    {
      "cell_type": "markdown",
      "source": [
        "### Evaluating our model's prediction with regression evaluation metrics\n",
        "two main metrics\n",
        "* MAE\n",
        "* MSE"
      ],
      "metadata": {
        "id": "Ucmyz5GuvEoX"
      }
    },
    {
      "cell_type": "code",
      "source": [
        "# Evaluate model on the test set\n",
        "model.evaluate(X_test, y_test)"
      ],
      "metadata": {
        "colab": {
          "base_uri": "https://localhost:8080/"
        },
        "id": "ujMO19ijwDnZ",
        "outputId": "ec752025-8cfb-4873-d7d4-b5ccbd7c0074"
      },
      "execution_count": 37,
      "outputs": [
        {
          "output_type": "stream",
          "name": "stdout",
          "text": [
            "1/1 [==============================] - 0s 133ms/step - loss: 3.1969 - mae: 3.1969\n"
          ]
        },
        {
          "output_type": "execute_result",
          "data": {
            "text/plain": [
              "[3.196942090988159, 3.196942090988159]"
            ]
          },
          "metadata": {},
          "execution_count": 37
        }
      ]
    },
    {
      "cell_type": "code",
      "source": [
        "# Calculate the mean absolute error\n",
        "tf.metrics.mean_absolute_error(y_true = y_test, y_pred = tf.squeeze(y_pred))"
      ],
      "metadata": {
        "colab": {
          "base_uri": "https://localhost:8080/"
        },
        "id": "4f9lfAQmxHy1",
        "outputId": "66f97a52-a332-407b-d93c-b5059c364635"
      },
      "execution_count": 38,
      "outputs": [
        {
          "output_type": "execute_result",
          "data": {
            "text/plain": [
              "<tf.Tensor: shape=(), dtype=float32, numpy=3.1969407>"
            ]
          },
          "metadata": {},
          "execution_count": 38
        }
      ]
    },
    {
      "cell_type": "code",
      "source": [
        "def mae(y_true, y_pred):\n",
        "  return tf.metrics.mean_absolute_error(y_true = y_test, y_pred = tf.squeeze(y_pred))\n",
        "def mse(y_true, y_pred):\n",
        "  return tf.metrics.mean_squared_error(y_true = y_test, y_pred = tf.squeeze(y_pred)) \n"
      ],
      "metadata": {
        "id": "udmCD4yqS9ZW"
      },
      "execution_count": 60,
      "outputs": []
    },
    {
      "cell_type": "code",
      "source": [
        "# mean square error\n",
        "tf.metrics.mean_squared_error(y_true = y_test, y_pred = tf.squeeze(y_pred)) "
      ],
      "metadata": {
        "colab": {
          "base_uri": "https://localhost:8080/"
        },
        "id": "BbXrLLcwx7Ic",
        "outputId": "9204d87a-ab5b-4832-8930-3a519089465d"
      },
      "execution_count": 39,
      "outputs": [
        {
          "output_type": "execute_result",
          "data": {
            "text/plain": [
              "<tf.Tensor: shape=(), dtype=float32, numpy=13.070143>"
            ]
          },
          "metadata": {},
          "execution_count": 39
        }
      ]
    },
    {
      "cell_type": "markdown",
      "source": [
        "### Running experiment to improve our model\n",
        "```\n",
        "Visulaize\n",
        "```"
      ],
      "metadata": {
        "id": "5DeKyhW9ynRu"
      }
    },
    {
      "cell_type": "code",
      "source": [
        "model_1 = tf.keras.Sequential([\n",
        "    tf.keras.layers.Dense(1, input_shape=[1])\n",
        "])\n",
        "model_1.compile(loss=tf.keras.losses.mae,\n",
        "               optimizer=tf.keras.optimizers.SGD(),\n",
        "               metrics=[\"mae\"])\n",
        "model_1.fit(X_train, y_train, epochs=100, verbose=0)\n"
      ],
      "metadata": {
        "colab": {
          "base_uri": "https://localhost:8080/"
        },
        "id": "neTbhwaMO9C9",
        "outputId": "c9191169-cc9a-4241-bbce-955028366bfb"
      },
      "execution_count": 54,
      "outputs": [
        {
          "output_type": "execute_result",
          "data": {
            "text/plain": [
              "<keras.callbacks.History at 0x7f9384f614d0>"
            ]
          },
          "metadata": {},
          "execution_count": 54
        }
      ]
    },
    {
      "cell_type": "code",
      "source": [
        "# Make and plot prediction for model_1\n",
        "y_pred_1 = model_1.predict(X_test)\n",
        "plot_prediction(prediction=y_pred_1)"
      ],
      "metadata": {
        "colab": {
          "base_uri": "https://localhost:8080/",
          "height": 428
        },
        "id": "z6ibOxPWQmSk",
        "outputId": "9788b3b9-5c26-47d6-daa8-43931a9d9dfd"
      },
      "execution_count": 58,
      "outputs": [
        {
          "output_type": "display_data",
          "data": {
            "text/plain": [
              "<Figure size 720x504 with 1 Axes>"
            ],
            "image/png": "[encoded data removed]"
          },
          "metadata": {
            "needs_background": "light"
          }
        }
      ]
    },
    {
      "cell_type": "code",
      "source": [
        "mae_1 = mae(y_test, y_pred_1)\n",
        "mse_1 = mse(y_test, y_pred_1)\n",
        "mae_1, mse_1"
      ],
      "metadata": {
        "colab": {
          "base_uri": "https://localhost:8080/"
        },
        "id": "aCYfNLr1RLy1",
        "outputId": "68698757-bb99-444f-d42c-aedfd11d1bc3"
      },
      "execution_count": 61,
      "outputs": [
        {
          "output_type": "execute_result",
          "data": {
            "text/plain": [
              "(<tf.Tensor: shape=(), dtype=float32, numpy=14.8109865>,\n",
              " <tf.Tensor: shape=(), dtype=float32, numpy=220.18051>)"
            ]
          },
          "metadata": {},
          "execution_count": 61
        }
      ]
    },
    {
      "cell_type": "code",
      "source": [
        "tf.random.set_seed(42)\n",
        "model_2 = tf.keras.Sequential([\n",
        "    tf.keras.layers.Dense(10, input_shape=[1]),\n",
        "    tf.keras.layers.Dense(1)\n",
        "])\n",
        "model_2.compile(loss=tf.keras.losses.mae,\n",
        "               optimizer=tf.keras.optimizers.SGD(),\n",
        "               metrics=[\"mse\"])\n",
        "model_2.fit(X_train, y_train, epochs=100, verbose=0)"
      ],
      "metadata": {
        "colab": {
          "base_uri": "https://localhost:8080/"
        },
        "id": "OR0k8qFrTZVw",
        "outputId": "6c6a7f8f-4e1a-48a4-bdc5-901756da9be9"
      },
      "execution_count": 80,
      "outputs": [
        {
          "output_type": "execute_result",
          "data": {
            "text/plain": [
              "<keras.callbacks.History at 0x7f938be88250>"
            ]
          },
          "metadata": {},
          "execution_count": 80
        }
      ]
    },
    {
      "cell_type": "code",
      "source": [
        "y_pred_2 = model_2.predict(X_test)\n",
        "plot_prediction(prediction=y_pred_2)"
      ],
      "metadata": {
        "colab": {
          "base_uri": "https://localhost:8080/",
          "height": 428
        },
        "id": "NDO6Wp12U74o",
        "outputId": "d5fc3946-2133-408c-852a-da21b780ed34"
      },
      "execution_count": 79,
      "outputs": [
        {
          "output_type": "display_data",
          "data": {
            "text/plain": [
              "<Figure size 720x504 with 1 Axes>"
            ],
            "image/png": "[encoded data removed]"
          },
          "metadata": {
            "needs_background": "light"
          }
        }
      ]
    },
    {
      "cell_type": "code",
      "source": [
        "mae_2 = mae(y_test, y_pred_2)\n",
        "mse_2 = mse(y_test, y_pred_2)\n",
        "mae_2, mse_2"
      ],
      "metadata": {
        "colab": {
          "base_uri": "https://localhost:8080/"
        },
        "id": "_DnVI1TEVCDW",
        "outputId": "78c528e8-71d1-4dd1-e567-b4f3dbfbd200"
      },
      "execution_count": 81,
      "outputs": [
        {
          "output_type": "execute_result",
          "data": {
            "text/plain": [
              "(<tf.Tensor: shape=(), dtype=float32, numpy=3.1969407>,\n",
              " <tf.Tensor: shape=(), dtype=float32, numpy=13.070143>)"
            ]
          },
          "metadata": {},
          "execution_count": 81
        }
      ]
    },
    {
      "cell_type": "code",
      "source": [
        "# model 3\n",
        "model_3 = tf.keras.Sequential([\n",
        "    tf.keras.layers.Dense(10, input_shape=[1]),\n",
        "    tf.keras.layers.Dense(1)\n",
        "])\n",
        "model_3.compile(loss=tf.keras.losses.mae,\n",
        "               optimizer=tf.keras.optimizers.SGD(),\n",
        "               metrics=[\"mae\"])\n",
        "model_3.fit(X_train, y_train, epochs=500, verbose=0)"
      ],
      "metadata": {
        "colab": {
          "base_uri": "https://localhost:8080/"
        },
        "id": "ujzeKT6SWJRU",
        "outputId": "59638437-ccfa-4c99-8e95-a3954b1d4eb2"
      },
      "execution_count": 86,
      "outputs": [
        {
          "output_type": "execute_result",
          "data": {
            "text/plain": [
              "<keras.callbacks.History at 0x7f938ef10490>"
            ]
          },
          "metadata": {},
          "execution_count": 86
        }
      ]
    },
    {
      "cell_type": "code",
      "source": [
        "y_pred_3 = model_3.predict(X_test)\n",
        "plot_prediction(prediction=y_pred_3)"
      ],
      "metadata": {
        "colab": {
          "base_uri": "https://localhost:8080/",
          "height": 428
        },
        "id": "SWAplBgeWQi0",
        "outputId": "3df9a421-6677-4664-d586-36c5cff0e957"
      },
      "execution_count": 87,
      "outputs": [
        {
          "output_type": "display_data",
          "data": {
            "text/plain": [
              "<Figure size 720x504 with 1 Axes>"
            ],
            "image/png": "[encoded data removed]"
          },
          "metadata": {
            "needs_background": "light"
          }
        }
      ]
    },
    {
      "cell_type": "code",
      "source": [
        "mae_3 = mae(y_test, y_pred_3)\n",
        "mse_3 = mse(y_test, y_pred_3)\n",
        "mae_3, mse_3"
      ],
      "metadata": {
        "colab": {
          "base_uri": "https://localhost:8080/"
        },
        "id": "Psuc2UnDWTFm",
        "outputId": "05ce682c-11c2-414d-f017-72646d18816c"
      },
      "execution_count": 88,
      "outputs": [
        {
          "output_type": "execute_result",
          "data": {
            "text/plain": [
              "(<tf.Tensor: shape=(), dtype=float32, numpy=68.716>,\n",
              " <tf.Tensor: shape=(), dtype=float32, numpy=4808.369>)"
            ]
          },
          "metadata": {},
          "execution_count": 88
        }
      ]
    },
    {
      "cell_type": "markdown",
      "source": [
        "### Comparing the results of our experiments\n",
        "\n",
        "WE've run a few experiments, let's compare the results."
      ],
      "metadata": {
        "id": "8wQ2ro90WpfQ"
      }
    },
    {
      "cell_type": "code",
      "source": [
        "import pandas as pd\n",
        "model_results = [[\"model_1\", mae_1.numpy(), mse_1.numpy()],\n",
        "                 [\"model_2\", mae_2.numpy(), mse_2.numpy()],\n",
        "                 [\"model_3\", mae_3.numpy(), mse_3.numpy()]]\n",
        "pd.DataFrame(model_results, columns=[\"model\",\"mae\",\"mse\"])"
      ],
      "metadata": {
        "colab": {
          "base_uri": "https://localhost:8080/",
          "height": 142
        },
        "id": "mqkt5I38X7xe",
        "outputId": "fd5f11cd-3b85-441b-9dfc-8f3a32f312e3"
      },
      "execution_count": 92,
      "outputs": [
        {
          "output_type": "execute_result",
          "data": {
            "text/plain": [
              "     model        mae          mse\n",
              "0  model_1  14.810987   220.180511\n",
              "1  model_2   3.196941    13.070143\n",
              "2  model_3  68.716003  4808.369141"
            ],
            "text/html": [
              "\n",
              "  <div id=\"df-43fff590-2561-4248-b56e-45347b7af8f5\">\n",
              "    <div class=\"colab-df-container\">\n",
              "      <div>\n",
              "<style scoped>\n",
              "    .dataframe tbody tr th:only-of-type {\n",
              "        vertical-align: middle;\n",
              "    }\n",
              "\n",
              "    .dataframe tbody tr th {\n",
              "        vertical-align: top;\n",
              "    }\n",
              "\n",
              "    .dataframe thead th {\n",
              "        text-align: right;\n",
              "    }\n",
              "</style>\n",
              "<table border=\"1\" class=\"dataframe\">\n",
              "  <thead>\n",
              "    <tr style=\"text-align: right;\">\n",
              "      <th></th>\n",
              "      <th>model</th>\n",
              "      <th>mae</th>\n",
              "      <th>mse</th>\n",
              "    </tr>\n",
              "  </thead>\n",
              "  <tbody>\n",
              "    <tr>\n",
              "      <th>0</th>\n",
              "      <td>model_1</td>\n",
              "      <td>14.810987</td>\n",
              "      <td>220.180511</td>\n",
              "    </tr>\n",
              "    <tr>\n",
              "      <th>1</th>\n",
              "      <td>model_2</td>\n",
              "      <td>3.196941</td>\n",
              "      <td>13.070143</td>\n",
              "    </tr>\n",
              "    <tr>\n",
              "      <th>2</th>\n",
              "      <td>model_3</td>\n",
              "      <td>68.716003</td>\n",
              "      <td>4808.369141</td>\n",
              "    </tr>\n",
              "  </tbody>\n",
              "</table>\n",
              "</div>\n",
              "      <button class=\"colab-df-convert\" onclick=\"convertToInteractive('df-43fff590-2561-4248-b56e-45347b7af8f5')\"\n",
              "              title=\"Convert this dataframe to an interactive table.\"\n",
              "              style=\"display:none;\">\n",
              "        \n",
              "  <svg xmlns=\"http://www.w3.org/2000/svg\" height=\"24px\"viewBox=\"0 0 24 24\"\n",
              "       width=\"24px\">\n",
              "    <path d=\"M0 0h24v24H0V0z\" fill=\"none\"/>\n",
              "    <path d=\"M18.56 5.44l.94 2.06.94-2.06 2.06-.94-2.06-.94-.94-2.06-.94 2.06-2.06.94zm-11 1L8.5 8.5l.94-2.06 2.06-.94-2.06-.94L8.5 2.5l-.94 2.06-2.06.94zm10 10l.94 2.06.94-2.06 2.06-.94-2.06-.94-.94-2.06-.94 2.06-2.06.94z\"/><path d=\"M17.41 7.96l-1.37-1.37c-.4-.4-.92-.59-1.43-.59-.52 0-1.04.2-1.43.59L10.3 9.45l-7.72 7.72c-.78.78-.78 2.05 0 2.83L4 21.41c.39.39.9.59 1.41.59.51 0 1.02-.2 1.41-.59l7.78-7.78 2.81-2.81c.8-.78.8-2.07 0-2.86zM5.41 20L4 18.59l7.72-7.72 1.47 1.35L5.41 20z\"/>\n",
              "  </svg>\n",
              "      </button>\n",
              "      \n",
              "  <style>\n",
              "    .colab-df-container {\n",
              "      display:flex;\n",
              "      flex-wrap:wrap;\n",
              "      gap: 12px;\n",
              "    }\n",
              "\n",
              "    .colab-df-convert {\n",
              "      background-color: #E8F0FE;\n",
              "      border: none;\n",
              "      border-radius: 50%;\n",
              "      cursor: pointer;\n",
              "      display: none;\n",
              "      fill: #1967D2;\n",
              "      height: 32px;\n",
              "      padding: 0 0 0 0;\n",
              "      width: 32px;\n",
              "    }\n",
              "\n",
              "    .colab-df-convert:hover {\n",
              "      background-color: #E2EBFA;\n",
              "      box-shadow: 0px 1px 2px rgba(60, 64, 67, 0.3), 0px 1px 3px 1px rgba(60, 64, 67, 0.15);\n",
              "      fill: #174EA6;\n",
              "    }\n",
              "\n",
              "    [theme=dark] .colab-df-convert {\n",
              "      background-color: #3B4455;\n",
              "      fill: #D2E3FC;\n",
              "    }\n",
              "\n",
              "    [theme=dark] .colab-df-convert:hover {\n",
              "      background-color: #434B5C;\n",
              "      box-shadow: 0px 1px 3px 1px rgba(0, 0, 0, 0.15);\n",
              "      filter: drop-shadow(0px 1px 2px rgba(0, 0, 0, 0.3));\n",
              "      fill: #FFFFFF;\n",
              "    }\n",
              "  </style>\n",
              "\n",
              "      <script>\n",
              "        const buttonEl =\n",
              "          document.querySelector('#df-43fff590-2561-4248-b56e-45347b7af8f5 button.colab-df-convert');\n",
              "        buttonEl.style.display =\n",
              "          google.colab.kernel.accessAllowed ? 'block' : 'none';\n",
              "\n",
              "        async function convertToInteractive(key) {\n",
              "          const element = document.querySelector('#df-43fff590-2561-4248-b56e-45347b7af8f5');\n",
              "          const dataTable =\n",
              "            await google.colab.kernel.invokeFunction('convertToInteractive',\n",
              "                                                     [key], {});\n",
              "          if (!dataTable) return;\n",
              "\n",
              "          const docLinkHtml = 'Like what you see? Visit the ' +\n",
              "            '<a target=\"_blank\" href=https://colab.research.google.com/notebooks/data_table.ipynb>data table notebook</a>'\n",
              "            + ' to learn more about interactive tables.';\n",
              "          element.innerHTML = '';\n",
              "          dataTable['output_type'] = 'display_data';\n",
              "          await google.colab.output.renderOutput(dataTable, element);\n",
              "          const docLink = document.createElement('div');\n",
              "          docLink.innerHTML = docLinkHtml;\n",
              "          element.appendChild(docLink);\n",
              "        }\n",
              "      </script>\n",
              "    </div>\n",
              "  </div>\n",
              "  "
            ]
          },
          "metadata": {},
          "execution_count": 92
        }
      ]
    },
    {
      "cell_type": "code",
      "source": [
        "model_2.summary()"
      ],
      "metadata": {
        "colab": {
          "base_uri": "https://localhost:8080/"
        },
        "id": "5KpOhv3hYaNL",
        "outputId": "1af4b35c-2e2b-4344-88c3-4a6d875d82ac"
      },
      "execution_count": 94,
      "outputs": [
        {
          "output_type": "stream",
          "name": "stdout",
          "text": [
            "Model: \"sequential_21\"\n",
            "_________________________________________________________________\n",
            " Layer (type)                Output Shape              Param #   \n",
            "=================================================================\n",
            " dense_31 (Dense)            (None, 10)                20        \n",
            "                                                                 \n",
            " dense_32 (Dense)            (None, 1)                 11        \n",
            "                                                                 \n",
            "=================================================================\n",
            "Total params: 31\n",
            "Trainable params: 31\n",
            "Non-trainable params: 0\n",
            "_________________________________________________________________\n"
          ]
        }
      ]
    },
    {
      "cell_type": "code",
      "source": [
        "#Saving our models\n",
        "\n",
        "model_2.save(\"bestmodel\")"
      ],
      "metadata": {
        "id": "Z-WQIPlAY2E1"
      },
      "execution_count": 95,
      "outputs": []
    },
    {
      "cell_type": "code",
      "source": [
        "# save model using hdf5 format\n",
        "model_2.save(\"bestmodel.h5\")"
      ],
      "metadata": {
        "id": "NpoeGPtUcCga"
      },
      "execution_count": 97,
      "outputs": []
    },
    {
      "cell_type": "markdown",
      "source": [
        "### Load Model"
      ],
      "metadata": {
        "id": "VVutBD4gcSlr"
      }
    },
    {
      "cell_type": "code",
      "source": [
        "loaded_Savedmodel_foramt = tf.keras.models.load_model(\"bestmodel\")\n",
        "loaded_Savedmodel_foramt.summary()"
      ],
      "metadata": {
        "colab": {
          "base_uri": "https://localhost:8080/"
        },
        "id": "qHtax2mIdNyV",
        "outputId": "2d2e8888-7fd0-4c58-d719-83ffd49d84eb"
      },
      "execution_count": 100,
      "outputs": [
        {
          "output_type": "stream",
          "name": "stdout",
          "text": [
            "Model: \"sequential_21\"\n",
            "_________________________________________________________________\n",
            " Layer (type)                Output Shape              Param #   \n",
            "=================================================================\n",
            " dense_31 (Dense)            (None, 10)                20        \n",
            "                                                                 \n",
            " dense_32 (Dense)            (None, 1)                 11        \n",
            "                                                                 \n",
            "=================================================================\n",
            "Total params: 31\n",
            "Trainable params: 31\n",
            "Non-trainable params: 0\n",
            "_________________________________________________________________\n"
          ]
        }
      ]
    },
    {
      "cell_type": "code",
      "source": [
        "loaded_h5_model = tf.keras.models.load_model(\"bestmodel.h5\")\n",
        "loaded_h5_model.summary()"
      ],
      "metadata": {
        "colab": {
          "base_uri": "https://localhost:8080/"
        },
        "id": "j_jLKisydfC3",
        "outputId": "95f371dd-0248-466f-9358-28a9e33657e6"
      },
      "execution_count": 101,
      "outputs": [
        {
          "output_type": "stream",
          "name": "stdout",
          "text": [
            "Model: \"sequential_21\"\n",
            "_________________________________________________________________\n",
            " Layer (type)                Output Shape              Param #   \n",
            "=================================================================\n",
            " dense_31 (Dense)            (None, 10)                20        \n",
            "                                                                 \n",
            " dense_32 (Dense)            (None, 1)                 11        \n",
            "                                                                 \n",
            "=================================================================\n",
            "Total params: 31\n",
            "Trainable params: 31\n",
            "Non-trainable params: 0\n",
            "_________________________________________________________________\n"
          ]
        }
      ]
    },
    {
      "cell_type": "code",
      "source": [
        ""
      ],
      "metadata": {
        "id": "d0ZQdbn9ecYM"
      },
      "execution_count": null,
      "outputs": []
    }
  ]
}