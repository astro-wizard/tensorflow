{
  "nbformat": 4,
  "nbformat_minor": 0,
  "metadata": {
    "colab": {
      "name": "TensorflowLinearRegression.ipynb",
      "provenance": [],
      "authorship_tag": "ABX9TyMrLHCu5d5jm6tVpGsb8/ej",
      "include_colab_link": true
    },
    "kernelspec": {
      "name": "python3",
      "display_name": "Python 3"
    },
    "language_info": {
      "name": "python"
    }
  },
  "cells": [
    {
      "cell_type": "markdown",
      "metadata": {
        "id": "view-in-github",
        "colab_type": "text"
      },
      "source": [
        "<a href=\"https://colab.research.google.com/github/prt180/tensorflow/blob/main/TensorflowLinearRegression.ipynb\" target=\"_parent\"><img src=\"https://colab.research.google.com/assets/colab-badge.svg\" alt=\"Open In Colab\"/></a>"
      ]
    },
    {
      "cell_type": "code",
      "execution_count": null,
      "metadata": {
        "id": "iK-zdeyaLc0f"
      },
      "outputs": [],
      "source": [
        "import pandas as pd\n",
        "import tensorflow as tf\n",
        "import numpy as np\n",
        "import matplotlib.pyplot as plt"
      ]
    },
    {
      "cell_type": "markdown",
      "source": [
        "Introduction to Regression with Neural Networks in Tf."
      ],
      "metadata": {
        "id": "k0H0pxsiLkiC"
      }
    },
    {
      "cell_type": "code",
      "source": [
        "print(tf.__version__)"
      ],
      "metadata": {
        "colab": {
          "base_uri": "https://localhost:8080/"
        },
        "id": "82bYtQPiP02-",
        "outputId": "df53494f-bff4-464a-ca32-2a948707f3db"
      },
      "execution_count": null,
      "outputs": [
        {
          "output_type": "stream",
          "name": "stdout",
          "text": [
            "2.8.2\n"
          ]
        }
      ]
    },
    {
      "cell_type": "markdown",
      "source": [
        "Creating Data to view and fit."
      ],
      "metadata": {
        "id": "ASGNEAdzQB_t"
      }
    },
    {
      "cell_type": "code",
      "source": [
        "# Create feaures\n",
        "X = np.array([-7.0, -4.0, -1.0, 2.0, 5.0, 8.0, 11.0, 14.0])\n",
        "\n",
        "# Create labels\n",
        "y = np.array([3.0, 6.0, 9.0, 12.0, 15.0, 18.0, 21.0, 24.0])\n",
        "\n",
        "# Visualize it\n",
        "plt.scatter(X, y)\n"
      ],
      "metadata": {
        "colab": {
          "base_uri": "https://localhost:8080/",
          "height": 286
        },
        "id": "L7Osx4a-QPQb",
        "outputId": "491950e4-b66b-4e15-a202-970a68593880"
      },
      "execution_count": null,
      "outputs": [
        {
          "output_type": "execute_result",
          "data": {
            "text/plain": [
              "<matplotlib.collections.PathCollection at 0x7f998a1d6b10>"
            ]
          },
          "metadata": {},
          "execution_count": 6
        },
        {
          "output_type": "display_data",
          "data": {
            "text/plain": [
              "<Figure size 432x288 with 1 Axes>"
            ],
            "image/png": "[encoded data removed]"
          },
          "metadata": {
            "needs_background": "light"
          }
        }
      ]
    },
    {
      "cell_type": "code",
      "source": [
        "y = X + 10"
      ],
      "metadata": {
        "id": "Wk4GvcHfQ5tB"
      },
      "execution_count": null,
      "outputs": []
    },
    {
      "cell_type": "markdown",
      "source": [
        "Input and output shapes"
      ],
      "metadata": {
        "id": "LWLyTlXLQ9_e"
      }
    },
    {
      "cell_type": "code",
      "source": [
        "# Create a demo tensor for housing price prediction problem\n",
        "house_info = tf.constant([\"bedrrom\", \"bathroom\", \"garage\"])\n",
        "house_price = tf.constant([939700])\n",
        "house_info, house_price"
      ],
      "metadata": {
        "colab": {
          "base_uri": "https://localhost:8080/"
        },
        "id": "pIAKoLw2RHJ9",
        "outputId": "1342f0e8-f3ef-4b39-df41-cc0260193465"
      },
      "execution_count": null,
      "outputs": [
        {
          "output_type": "execute_result",
          "data": {
            "text/plain": [
              "(<tf.Tensor: shape=(3,), dtype=string, numpy=array([b'bedrrom', b'bathroom', b'garage'], dtype=object)>,\n",
              " <tf.Tensor: shape=(1,), dtype=int32, numpy=array([939700], dtype=int32)>)"
            ]
          },
          "metadata": {},
          "execution_count": 10
        }
      ]
    },
    {
      "cell_type": "code",
      "source": [
        "X.shape, y.shape"
      ],
      "metadata": {
        "colab": {
          "base_uri": "https://localhost:8080/"
        },
        "id": "dIoB579LRcId",
        "outputId": "23bf37fc-75f7-46f0-f4af-814909521ab0"
      },
      "execution_count": null,
      "outputs": [
        {
          "output_type": "execute_result",
          "data": {
            "text/plain": [
              "((8,), (8,))"
            ]
          },
          "metadata": {},
          "execution_count": 13
        }
      ]
    },
    {
      "cell_type": "code",
      "source": [
        "X.ndim"
      ],
      "metadata": {
        "colab": {
          "base_uri": "https://localhost:8080/"
        },
        "id": "ED6J6SiERq6G",
        "outputId": "64fab889-7bec-4a5c-8f0e-ab6c569333e7"
      },
      "execution_count": null,
      "outputs": [
        {
          "output_type": "execute_result",
          "data": {
            "text/plain": [
              "1"
            ]
          },
          "metadata": {},
          "execution_count": 14
        }
      ]
    },
    {
      "cell_type": "code",
      "source": [
        "X[0].shape, X[0].ndim"
      ],
      "metadata": {
        "colab": {
          "base_uri": "https://localhost:8080/"
        },
        "id": "Gyh1jI-DSCjV",
        "outputId": "887a0750-e2d4-4ae0-e72d-e46fb705d0cd"
      },
      "execution_count": null,
      "outputs": [
        {
          "output_type": "execute_result",
          "data": {
            "text/plain": [
              "((), 0)"
            ]
          },
          "metadata": {},
          "execution_count": 16
        }
      ]
    },
    {
      "cell_type": "code",
      "source": [
        "# Turn on NumPy arrays into tensors \n",
        "X = tf.constant(X)\n",
        "y = tf.constant(y)\n",
        "X, y"
      ],
      "metadata": {
        "colab": {
          "base_uri": "https://localhost:8080/"
        },
        "id": "7JIqkxAeSHPu",
        "outputId": "dfd953dd-f8e8-4c94-fcef-ba5a2e11fef6"
      },
      "execution_count": null,
      "outputs": [
        {
          "output_type": "execute_result",
          "data": {
            "text/plain": [
              "(<tf.Tensor: shape=(8,), dtype=float64, numpy=array([-7., -4., -1.,  2.,  5.,  8., 11., 14.])>,\n",
              " <tf.Tensor: shape=(8,), dtype=float64, numpy=array([ 3.,  6.,  9., 12., 15., 18., 21., 24.])>)"
            ]
          },
          "metadata": {},
          "execution_count": 17
        }
      ]
    },
    {
      "cell_type": "code",
      "source": [
        "X[0].shape, y[0].shape"
      ],
      "metadata": {
        "colab": {
          "base_uri": "https://localhost:8080/"
        },
        "id": "XbAyan6jS2eE",
        "outputId": "1c239769-5a26-4acb-afc0-939ac01d73c7"
      },
      "execution_count": null,
      "outputs": [
        {
          "output_type": "execute_result",
          "data": {
            "text/plain": [
              "(TensorShape([]), TensorShape([]))"
            ]
          },
          "metadata": {},
          "execution_count": 18
        }
      ]
    },
    {
      "cell_type": "code",
      "source": [
        "plt.scatter(X, y)"
      ],
      "metadata": {
        "colab": {
          "base_uri": "https://localhost:8080/",
          "height": 286
        },
        "id": "jTl_fxYATAny",
        "outputId": "70873d87-3023-4ae3-bf64-8b0f88c74891"
      },
      "execution_count": null,
      "outputs": [
        {
          "output_type": "execute_result",
          "data": {
            "text/plain": [
              "<matplotlib.collections.PathCollection at 0x7f9985519f10>"
            ]
          },
          "metadata": {},
          "execution_count": 19
        },
        {
          "output_type": "display_data",
          "data": {
            "text/plain": [
              "<Figure size 432x288 with 1 Axes>"
            ],
            "image/png": "[encoded data removed]"
          },
          "metadata": {
            "needs_background": "light"
          }
        }
      ]
    },
    {
      "cell_type": "markdown",
      "source": [
        "## Steps in modelling with Tensorflow"
      ],
      "metadata": {
        "id": "_cbEs0EWTG21"
      }
    },
    {
      "cell_type": "code",
      "source": [
        "# Set random seed\n",
        "tf.random.set_seed(42)\n",
        "\n",
        "model = tf.keras.Sequential([\n",
        "    tf.keras.layers.Dense(1)\n",
        "])\n",
        "\n",
        "model.compile(loss=tf.keras.losses.MAE, \n",
        "              optimizer=tf.keras.optimizers.SGD(lr=0.01),\n",
        "              metrics=[\"mae\"])\n",
        "\n",
        "model.fit(tf.expand_dims(X, axis=-1), y, epochs=5)"
      ],
      "metadata": {
        "colab": {
          "base_uri": "https://localhost:8080/"
        },
        "id": "9vcn9ok3TfL5",
        "outputId": "4fa42234-cb8b-4a39-ba52-ed812401cb44"
      },
      "execution_count": null,
      "outputs": [
        {
          "output_type": "stream",
          "name": "stdout",
          "text": [
            "Epoch 1/5\n"
          ]
        },
        {
          "output_type": "stream",
          "name": "stderr",
          "text": [
            "/usr/local/lib/python3.7/dist-packages/keras/optimizer_v2/gradient_descent.py:102: UserWarning: The `lr` argument is deprecated, use `learning_rate` instead.\n",
            "  super(SGD, self).__init__(name, **kwargs)\n"
          ]
        },
        {
          "output_type": "stream",
          "name": "stdout",
          "text": [
            "1/1 [==============================] - 0s 299ms/step - loss: 11.5048 - mae: 11.5048\n",
            "Epoch 2/5\n",
            "1/1 [==============================] - 0s 17ms/step - loss: 11.3723 - mae: 11.3723\n",
            "Epoch 3/5\n",
            "1/1 [==============================] - 0s 7ms/step - loss: 11.2398 - mae: 11.2398\n",
            "Epoch 4/5\n",
            "1/1 [==============================] - 0s 8ms/step - loss: 11.1073 - mae: 11.1073\n",
            "Epoch 5/5\n",
            "1/1 [==============================] - 0s 7ms/step - loss: 10.9748 - mae: 10.9748\n"
          ]
        },
        {
          "output_type": "execute_result",
          "data": {
            "text/plain": [
              "<keras.callbacks.History at 0x7f99782b9dd0>"
            ]
          },
          "metadata": {},
          "execution_count": 68
        }
      ]
    },
    {
      "cell_type": "code",
      "source": [
        "# Check X and y\n",
        "X, y"
      ],
      "metadata": {
        "colab": {
          "base_uri": "https://localhost:8080/"
        },
        "id": "jhAXpmUxVgiw",
        "outputId": "b60cd622-87bd-43a2-80de-f68ee4af5329"
      },
      "execution_count": null,
      "outputs": [
        {
          "output_type": "execute_result",
          "data": {
            "text/plain": [
              "(<tf.Tensor: shape=(8,), dtype=float64, numpy=array([-7., -4., -1.,  2.,  5.,  8., 11., 14.])>,\n",
              " <tf.Tensor: shape=(8,), dtype=float64, numpy=array([ 3.,  6.,  9., 12., 15., 18., 21., 24.])>)"
            ]
          },
          "metadata": {},
          "execution_count": 24
        }
      ]
    },
    {
      "cell_type": "code",
      "source": [
        "y_pred = model.predict([17.0])\n",
        "y_pred"
      ],
      "metadata": {
        "colab": {
          "base_uri": "https://localhost:8080/"
        },
        "id": "Y_kvYYLGXFr-",
        "outputId": "b21f59ad-90c1-4c52-f5fd-2e9e995a2b5d"
      },
      "execution_count": null,
      "outputs": [
        {
          "output_type": "execute_result",
          "data": {
            "text/plain": [
              "array([[12.716021]], dtype=float32)"
            ]
          },
          "metadata": {},
          "execution_count": 30
        }
      ]
    },
    {
      "cell_type": "code",
      "source": [
        "y_pred + 11"
      ],
      "metadata": {
        "colab": {
          "base_uri": "https://localhost:8080/"
        },
        "id": "KNI-bUJoXLLd",
        "outputId": "45996e67-39bb-4442-b666-400f221a670a"
      },
      "execution_count": null,
      "outputs": [
        {
          "output_type": "execute_result",
          "data": {
            "text/plain": [
              "array([[23.71602]], dtype=float32)"
            ]
          },
          "metadata": {},
          "execution_count": 31
        }
      ]
    },
    {
      "cell_type": "markdown",
      "source": [
        "# Improving a model\n",
        "We can improve our model, by altering the steps we took to create model.\n",
        "1. adding more hidden layers or adding more neurons.\n",
        "2. altering optimization function\n",
        "3. fit model for more epochs "
      ],
      "metadata": {
        "id": "gsInCl_RXlgG"
      }
    },
    {
      "cell_type": "code",
      "source": [
        "model2 = tf.keras.Sequential([\n",
        "    tf.keras.layers.Dense(100, activation=None),\n",
        "    tf.keras.layers.Dense(100, activation=None),\n",
        "    tf.keras.layers.Dense(1)\n",
        "])\n",
        "\n",
        "model2.compile(loss=tf.keras.losses.mae,\n",
        "              optimizer=tf.keras.optimizers.Adam(lr=0.001),\n",
        "              metrics=[\"mae\"]\n",
        "              )\n",
        "\n",
        "model2.fit(tf.expand_dims(X, axis=-1), y, epochs=100)"
      ],
      "metadata": {
        "colab": {
          "base_uri": "https://localhost:8080/"
        },
        "id": "KRKzBQdCYa0g",
        "outputId": "979c045a-717a-4582-8a8d-1fe00a238482"
      },
      "execution_count": null,
      "outputs": [
        {
          "output_type": "stream",
          "name": "stdout",
          "text": [
            "Epoch 1/100\n"
          ]
        },
        {
          "output_type": "stream",
          "name": "stderr",
          "text": [
            "/usr/local/lib/python3.7/dist-packages/keras/optimizer_v2/adam.py:105: UserWarning: The `lr` argument is deprecated, use `learning_rate` instead.\n",
            "  super(Adam, self).__init__(name, **kwargs)\n"
          ]
        },
        {
          "output_type": "stream",
          "name": "stdout",
          "text": [
            "1/1 [==============================] - 0s 405ms/step - loss: 14.0765 - mae: 14.0765\n",
            "Epoch 2/100\n",
            "1/1 [==============================] - 0s 9ms/step - loss: 13.4881 - mae: 13.4881\n",
            "Epoch 3/100\n",
            "1/1 [==============================] - 0s 12ms/step - loss: 12.9020 - mae: 12.9020\n",
            "Epoch 4/100\n",
            "1/1 [==============================] - 0s 13ms/step - loss: 12.3165 - mae: 12.3165\n",
            "Epoch 5/100\n",
            "1/1 [==============================] - 0s 12ms/step - loss: 11.7299 - mae: 11.7299\n",
            "Epoch 6/100\n",
            "1/1 [==============================] - 0s 10ms/step - loss: 11.1404 - mae: 11.1404\n",
            "Epoch 7/100\n",
            "1/1 [==============================] - 0s 9ms/step - loss: 10.5465 - mae: 10.5465\n",
            "Epoch 8/100\n",
            "1/1 [==============================] - 0s 9ms/step - loss: 9.9469 - mae: 9.9469\n",
            "Epoch 9/100\n",
            "1/1 [==============================] - 0s 11ms/step - loss: 9.3402 - mae: 9.3402\n",
            "Epoch 10/100\n",
            "1/1 [==============================] - 0s 11ms/step - loss: 8.7252 - mae: 8.7252\n",
            "Epoch 11/100\n",
            "1/1 [==============================] - 0s 9ms/step - loss: 8.1007 - mae: 8.1007\n",
            "Epoch 12/100\n",
            "1/1 [==============================] - 0s 11ms/step - loss: 7.4655 - mae: 7.4655\n",
            "Epoch 13/100\n",
            "1/1 [==============================] - 0s 14ms/step - loss: 7.2586 - mae: 7.2586\n",
            "Epoch 14/100\n",
            "1/1 [==============================] - 0s 10ms/step - loss: 7.5102 - mae: 7.5102\n",
            "Epoch 15/100\n",
            "1/1 [==============================] - 0s 13ms/step - loss: 7.8235 - mae: 7.8235\n",
            "Epoch 16/100\n",
            "1/1 [==============================] - 0s 12ms/step - loss: 8.0392 - mae: 8.0392\n",
            "Epoch 17/100\n",
            "1/1 [==============================] - 0s 11ms/step - loss: 8.2516 - mae: 8.2516\n",
            "Epoch 18/100\n",
            "1/1 [==============================] - 0s 8ms/step - loss: 8.2943 - mae: 8.2943\n",
            "Epoch 19/100\n",
            "1/1 [==============================] - 0s 10ms/step - loss: 8.1807 - mae: 8.1807\n",
            "Epoch 20/100\n",
            "1/1 [==============================] - 0s 14ms/step - loss: 7.9660 - mae: 7.9660\n",
            "Epoch 21/100\n",
            "1/1 [==============================] - 0s 11ms/step - loss: 7.7926 - mae: 7.7926\n",
            "Epoch 22/100\n",
            "1/1 [==============================] - 0s 8ms/step - loss: 7.5949 - mae: 7.5949\n",
            "Epoch 23/100\n",
            "1/1 [==============================] - 0s 8ms/step - loss: 7.3770 - mae: 7.3770\n",
            "Epoch 24/100\n",
            "1/1 [==============================] - 0s 9ms/step - loss: 7.1426 - mae: 7.1426\n",
            "Epoch 25/100\n",
            "1/1 [==============================] - 0s 10ms/step - loss: 7.0400 - mae: 7.0400\n",
            "Epoch 26/100\n",
            "1/1 [==============================] - 0s 12ms/step - loss: 7.0277 - mae: 7.0277\n",
            "Epoch 27/100\n",
            "1/1 [==============================] - 0s 14ms/step - loss: 7.0676 - mae: 7.0676\n",
            "Epoch 28/100\n",
            "1/1 [==============================] - 0s 11ms/step - loss: 7.1974 - mae: 7.1974\n",
            "Epoch 29/100\n",
            "1/1 [==============================] - 0s 14ms/step - loss: 7.2436 - mae: 7.2436\n",
            "Epoch 30/100\n",
            "1/1 [==============================] - 0s 11ms/step - loss: 7.2168 - mae: 7.2168\n",
            "Epoch 31/100\n",
            "1/1 [==============================] - 0s 7ms/step - loss: 7.1251 - mae: 7.1251\n",
            "Epoch 32/100\n",
            "1/1 [==============================] - 0s 8ms/step - loss: 6.9754 - mae: 6.9754\n",
            "Epoch 33/100\n",
            "1/1 [==============================] - 0s 7ms/step - loss: 6.8879 - mae: 6.8879\n",
            "Epoch 34/100\n",
            "1/1 [==============================] - 0s 7ms/step - loss: 6.8609 - mae: 6.8609\n",
            "Epoch 35/100\n",
            "1/1 [==============================] - 0s 7ms/step - loss: 6.8338 - mae: 6.8338\n",
            "Epoch 36/100\n",
            "1/1 [==============================] - 0s 7ms/step - loss: 6.8065 - mae: 6.8065\n",
            "Epoch 37/100\n",
            "1/1 [==============================] - 0s 7ms/step - loss: 6.8479 - mae: 6.8479\n",
            "Epoch 38/100\n",
            "1/1 [==============================] - 0s 7ms/step - loss: 6.8792 - mae: 6.8792\n",
            "Epoch 39/100\n",
            "1/1 [==============================] - 0s 6ms/step - loss: 6.8678 - mae: 6.8678\n",
            "Epoch 40/100\n",
            "1/1 [==============================] - 0s 6ms/step - loss: 6.8181 - mae: 6.8181\n",
            "Epoch 41/100\n",
            "1/1 [==============================] - 0s 6ms/step - loss: 6.7342 - mae: 6.7342\n",
            "Epoch 42/100\n",
            "1/1 [==============================] - 0s 6ms/step - loss: 6.6750 - mae: 6.6750\n",
            "Epoch 43/100\n",
            "1/1 [==============================] - 0s 6ms/step - loss: 6.6576 - mae: 6.6576\n",
            "Epoch 44/100\n",
            "1/1 [==============================] - 0s 7ms/step - loss: 6.6394 - mae: 6.6394\n",
            "Epoch 45/100\n",
            "1/1 [==============================] - 0s 8ms/step - loss: 6.6204 - mae: 6.6204\n",
            "Epoch 46/100\n",
            "1/1 [==============================] - 0s 10ms/step - loss: 6.6007 - mae: 6.6007\n",
            "Epoch 47/100\n",
            "1/1 [==============================] - 0s 9ms/step - loss: 6.5802 - mae: 6.5802\n",
            "Epoch 48/100\n",
            "1/1 [==============================] - 0s 7ms/step - loss: 6.5589 - mae: 6.5589\n",
            "Epoch 49/100\n",
            "1/1 [==============================] - 0s 7ms/step - loss: 6.5369 - mae: 6.5369\n",
            "Epoch 50/100\n",
            "1/1 [==============================] - 0s 7ms/step - loss: 6.5368 - mae: 6.5368\n",
            "Epoch 51/100\n",
            "1/1 [==============================] - 0s 7ms/step - loss: 6.4867 - mae: 6.4867\n",
            "Epoch 52/100\n",
            "1/1 [==============================] - 0s 8ms/step - loss: 6.4587 - mae: 6.4587\n",
            "Epoch 53/100\n",
            "1/1 [==============================] - 0s 8ms/step - loss: 6.4301 - mae: 6.4301\n",
            "Epoch 54/100\n",
            "1/1 [==============================] - 0s 7ms/step - loss: 6.4010 - mae: 6.4010\n",
            "Epoch 55/100\n",
            "1/1 [==============================] - 0s 7ms/step - loss: 6.3712 - mae: 6.3712\n",
            "Epoch 56/100\n",
            "1/1 [==============================] - 0s 7ms/step - loss: 6.3409 - mae: 6.3409\n",
            "Epoch 57/100\n",
            "1/1 [==============================] - 0s 10ms/step - loss: 6.3098 - mae: 6.3098\n",
            "Epoch 58/100\n",
            "1/1 [==============================] - 0s 12ms/step - loss: 6.2781 - mae: 6.2781\n",
            "Epoch 59/100\n",
            "1/1 [==============================] - 0s 8ms/step - loss: 6.2456 - mae: 6.2456\n",
            "Epoch 60/100\n",
            "1/1 [==============================] - 0s 9ms/step - loss: 6.2124 - mae: 6.2124\n",
            "Epoch 61/100\n",
            "1/1 [==============================] - 0s 10ms/step - loss: 6.1783 - mae: 6.1783\n",
            "Epoch 62/100\n",
            "1/1 [==============================] - 0s 13ms/step - loss: 6.1435 - mae: 6.1435\n",
            "Epoch 63/100\n",
            "1/1 [==============================] - 0s 11ms/step - loss: 6.1331 - mae: 6.1331\n",
            "Epoch 64/100\n",
            "1/1 [==============================] - 0s 18ms/step - loss: 6.0948 - mae: 6.0948\n",
            "Epoch 65/100\n",
            "1/1 [==============================] - 0s 7ms/step - loss: 6.0489 - mae: 6.0489\n",
            "Epoch 66/100\n",
            "1/1 [==============================] - 0s 7ms/step - loss: 6.0200 - mae: 6.0200\n",
            "Epoch 67/100\n",
            "1/1 [==============================] - 0s 10ms/step - loss: 5.9894 - mae: 5.9894\n",
            "Epoch 68/100\n",
            "1/1 [==============================] - 0s 9ms/step - loss: 5.9574 - mae: 5.9574\n",
            "Epoch 69/100\n",
            "1/1 [==============================] - 0s 12ms/step - loss: 5.9238 - mae: 5.9238\n",
            "Epoch 70/100\n",
            "1/1 [==============================] - 0s 17ms/step - loss: 5.8887 - mae: 5.8887\n",
            "Epoch 71/100\n",
            "1/1 [==============================] - 0s 11ms/step - loss: 5.8521 - mae: 5.8521\n",
            "Epoch 72/100\n",
            "1/1 [==============================] - 0s 8ms/step - loss: 5.8139 - mae: 5.8139\n",
            "Epoch 73/100\n",
            "1/1 [==============================] - 0s 8ms/step - loss: 5.7742 - mae: 5.7742\n",
            "Epoch 74/100\n",
            "1/1 [==============================] - 0s 7ms/step - loss: 5.7330 - mae: 5.7330\n",
            "Epoch 75/100\n",
            "1/1 [==============================] - 0s 8ms/step - loss: 5.6902 - mae: 5.6902\n",
            "Epoch 76/100\n",
            "1/1 [==============================] - 0s 9ms/step - loss: 5.6457 - mae: 5.6457\n",
            "Epoch 77/100\n",
            "1/1 [==============================] - 0s 8ms/step - loss: 5.5997 - mae: 5.5997\n",
            "Epoch 78/100\n",
            "1/1 [==============================] - 0s 8ms/step - loss: 5.5519 - mae: 5.5519\n",
            "Epoch 79/100\n",
            "1/1 [==============================] - 0s 12ms/step - loss: 5.5025 - mae: 5.5025\n",
            "Epoch 80/100\n",
            "1/1 [==============================] - 0s 8ms/step - loss: 5.4911 - mae: 5.4911\n",
            "Epoch 81/100\n",
            "1/1 [==============================] - 0s 19ms/step - loss: 5.4261 - mae: 5.4261\n",
            "Epoch 82/100\n",
            "1/1 [==============================] - 0s 12ms/step - loss: 5.3660 - mae: 5.3660\n",
            "Epoch 83/100\n",
            "1/1 [==============================] - 0s 14ms/step - loss: 5.3232 - mae: 5.3232\n",
            "Epoch 84/100\n",
            "1/1 [==============================] - 0s 12ms/step - loss: 5.2775 - mae: 5.2775\n",
            "Epoch 85/100\n",
            "1/1 [==============================] - 0s 10ms/step - loss: 5.2291 - mae: 5.2291\n",
            "Epoch 86/100\n",
            "1/1 [==============================] - 0s 13ms/step - loss: 5.1780 - mae: 5.1780\n",
            "Epoch 87/100\n",
            "1/1 [==============================] - 0s 11ms/step - loss: 5.1241 - mae: 5.1241\n",
            "Epoch 88/100\n",
            "1/1 [==============================] - 0s 9ms/step - loss: 5.0675 - mae: 5.0675\n",
            "Epoch 89/100\n",
            "1/1 [==============================] - 0s 19ms/step - loss: 5.0082 - mae: 5.0082\n",
            "Epoch 90/100\n",
            "1/1 [==============================] - 0s 13ms/step - loss: 4.9461 - mae: 4.9461\n",
            "Epoch 91/100\n",
            "1/1 [==============================] - 0s 15ms/step - loss: 4.8813 - mae: 4.8813\n",
            "Epoch 92/100\n",
            "1/1 [==============================] - 0s 17ms/step - loss: 4.8136 - mae: 4.8136\n",
            "Epoch 93/100\n",
            "1/1 [==============================] - 0s 12ms/step - loss: 4.7431 - mae: 4.7431\n",
            "Epoch 94/100\n",
            "1/1 [==============================] - 0s 10ms/step - loss: 4.6696 - mae: 4.6696\n",
            "Epoch 95/100\n",
            "1/1 [==============================] - 0s 9ms/step - loss: 4.5932 - mae: 4.5932\n",
            "Epoch 96/100\n",
            "1/1 [==============================] - 0s 7ms/step - loss: 4.5137 - mae: 4.5137\n",
            "Epoch 97/100\n",
            "1/1 [==============================] - 0s 7ms/step - loss: 4.4812 - mae: 4.4812\n",
            "Epoch 98/100\n",
            "1/1 [==============================] - 0s 11ms/step - loss: 4.3853 - mae: 4.3853\n",
            "Epoch 99/100\n",
            "1/1 [==============================] - 0s 10ms/step - loss: 4.2876 - mae: 4.2876\n",
            "Epoch 100/100\n",
            "1/1 [==============================] - 0s 9ms/step - loss: 4.2144 - mae: 4.2144\n"
          ]
        },
        {
          "output_type": "execute_result",
          "data": {
            "text/plain": [
              "<keras.callbacks.History at 0x7f998471ec50>"
            ]
          },
          "metadata": {},
          "execution_count": 69
        }
      ]
    },
    {
      "cell_type": "code",
      "source": [
        "y2_pred = model2.predict([17.0])\n",
        "y2_pred"
      ],
      "metadata": {
        "colab": {
          "base_uri": "https://localhost:8080/"
        },
        "id": "aw5pRLRoamLR",
        "outputId": "88751a3a-84da-414a-d4b6-bd1847863619"
      },
      "execution_count": null,
      "outputs": [
        {
          "output_type": "execute_result",
          "data": {
            "text/plain": [
              "array([[28.825218]], dtype=float32)"
            ]
          },
          "metadata": {},
          "execution_count": 70
        }
      ]
    },
    {
      "cell_type": "code",
      "source": [
        "X, y\n"
      ],
      "metadata": {
        "colab": {
          "base_uri": "https://localhost:8080/"
        },
        "id": "sDksNV67blis",
        "outputId": "f59812f2-6230-422a-a9d9-293ba9b8f9f5"
      },
      "execution_count": null,
      "outputs": [
        {
          "output_type": "execute_result",
          "data": {
            "text/plain": [
              "(<tf.Tensor: shape=(8,), dtype=float64, numpy=array([-7., -4., -1.,  2.,  5.,  8., 11., 14.])>,\n",
              " <tf.Tensor: shape=(8,), dtype=float64, numpy=array([ 3.,  6.,  9., 12., 15., 18., 21., 24.])>)"
            ]
          },
          "metadata": {},
          "execution_count": 49
        }
      ]
    },
    {
      "cell_type": "markdown",
      "source": [
        "Evaluting a model\n",
        "\n",
        "visualize, visualize, visualize\n",
        "1. Visualize data\n",
        "2. Visualize model\n",
        "3. visualize training model\n",
        "4. visualize prediction  "
      ],
      "metadata": {
        "id": "z1_jLbq6dAuv"
      }
    },
    {
      "cell_type": "code",
      "source": [
        "# Make a bigger dataset\n",
        "X = tf.range(-100, 100, 4)\n",
        "X"
      ],
      "metadata": {
        "colab": {
          "base_uri": "https://localhost:8080/"
        },
        "id": "kGXflIrFgWOk",
        "outputId": "5202d164-14cf-4e85-dc6a-5e35acf8b161"
      },
      "execution_count": null,
      "outputs": [
        {
          "output_type": "execute_result",
          "data": {
            "text/plain": [
              "<tf.Tensor: shape=(50,), dtype=int32, numpy=\n",
              "array([-100,  -96,  -92,  -88,  -84,  -80,  -76,  -72,  -68,  -64,  -60,\n",
              "        -56,  -52,  -48,  -44,  -40,  -36,  -32,  -28,  -24,  -20,  -16,\n",
              "        -12,   -8,   -4,    0,    4,    8,   12,   16,   20,   24,   28,\n",
              "         32,   36,   40,   44,   48,   52,   56,   60,   64,   68,   72,\n",
              "         76,   80,   84,   88,   92,   96], dtype=int32)>"
            ]
          },
          "metadata": {},
          "execution_count": 4
        }
      ]
    },
    {
      "cell_type": "code",
      "source": [
        "y = X + 10\n",
        "y"
      ],
      "metadata": {
        "colab": {
          "base_uri": "https://localhost:8080/"
        },
        "id": "i78ddlNCg1gk",
        "outputId": "44ddd023-4193-4497-e63b-e6c196e081ee"
      },
      "execution_count": null,
      "outputs": [
        {
          "output_type": "execute_result",
          "data": {
            "text/plain": [
              "<tf.Tensor: shape=(50,), dtype=int32, numpy=\n",
              "array([-90, -86, -82, -78, -74, -70, -66, -62, -58, -54, -50, -46, -42,\n",
              "       -38, -34, -30, -26, -22, -18, -14, -10,  -6,  -2,   2,   6,  10,\n",
              "        14,  18,  22,  26,  30,  34,  38,  42,  46,  50,  54,  58,  62,\n",
              "        66,  70,  74,  78,  82,  86,  90,  94,  98, 102, 106], dtype=int32)>"
            ]
          },
          "metadata": {},
          "execution_count": 5
        }
      ]
    },
    {
      "cell_type": "code",
      "source": [
        "# Visualize a data\n",
        "plt.scatter(X, y)"
      ],
      "metadata": {
        "colab": {
          "base_uri": "https://localhost:8080/",
          "height": 282
        },
        "id": "bW0D8KCcg5gr",
        "outputId": "69b15d55-6679-4672-a20e-ab5f337f3f56"
      },
      "execution_count": null,
      "outputs": [
        {
          "output_type": "execute_result",
          "data": {
            "text/plain": [
              "<matplotlib.collections.PathCollection at 0x7f28ccc515d0>"
            ]
          },
          "metadata": {},
          "execution_count": 6
        },
        {
          "output_type": "display_data",
          "data": {
            "text/plain": [
              "<Figure size 432x288 with 1 Axes>"
            ],
            "image/png": "[encoded data removed]"
          },
          "metadata": {
            "needs_background": "light"
          }
        }
      ]
    },
    {
      "cell_type": "markdown",
      "source": [
        "### The 3 sets...\n",
        "\n",
        "* Training set \n",
        "* Validation set\n",
        "* Test set"
      ],
      "metadata": {
        "id": "lgCgp8qShBJU"
      }
    },
    {
      "cell_type": "code",
      "source": [
        "len(X)\n",
        "X"
      ],
      "metadata": {
        "colab": {
          "base_uri": "https://localhost:8080/"
        },
        "id": "9WYHYjsxh5KE",
        "outputId": "ebd0a6ec-0ba9-4d7e-97c6-2f83fef0981a"
      },
      "execution_count": null,
      "outputs": [
        {
          "output_type": "execute_result",
          "data": {
            "text/plain": [
              "<tf.Tensor: shape=(50,), dtype=int32, numpy=\n",
              "array([-100,  -96,  -92,  -88,  -84,  -80,  -76,  -72,  -68,  -64,  -60,\n",
              "        -56,  -52,  -48,  -44,  -40,  -36,  -32,  -28,  -24,  -20,  -16,\n",
              "        -12,   -8,   -4,    0,    4,    8,   12,   16,   20,   24,   28,\n",
              "         32,   36,   40,   44,   48,   52,   56,   60,   64,   68,   72,\n",
              "         76,   80,   84,   88,   92,   96], dtype=int32)>"
            ]
          },
          "metadata": {},
          "execution_count": 10
        }
      ]
    },
    {
      "cell_type": "code",
      "source": [
        "X_train = X[:40]\n",
        "y_train = y[:40]\n",
        "X_test = X[40:]\n",
        "y_test = y[40:]\n",
        "X_train, y_train, X_test, y_test"
      ],
      "metadata": {
        "colab": {
          "base_uri": "https://localhost:8080/"
        },
        "id": "BmVEDq87ikDG",
        "outputId": "25770595-46e2-4a11-d6b5-9d96ea414232"
      },
      "execution_count": null,
      "outputs": [
        {
          "output_type": "execute_result",
          "data": {
            "text/plain": [
              "(<tf.Tensor: shape=(40,), dtype=int32, numpy=\n",
              " array([-100,  -96,  -92,  -88,  -84,  -80,  -76,  -72,  -68,  -64,  -60,\n",
              "         -56,  -52,  -48,  -44,  -40,  -36,  -32,  -28,  -24,  -20,  -16,\n",
              "         -12,   -8,   -4,    0,    4,    8,   12,   16,   20,   24,   28,\n",
              "          32,   36,   40,   44,   48,   52,   56], dtype=int32)>,\n",
              " <tf.Tensor: shape=(40,), dtype=int32, numpy=\n",
              " array([-90, -86, -82, -78, -74, -70, -66, -62, -58, -54, -50, -46, -42,\n",
              "        -38, -34, -30, -26, -22, -18, -14, -10,  -6,  -2,   2,   6,  10,\n",
              "         14,  18,  22,  26,  30,  34,  38,  42,  46,  50,  54,  58,  62,\n",
              "         66], dtype=int32)>,\n",
              " <tf.Tensor: shape=(10,), dtype=int32, numpy=array([60, 64, 68, 72, 76, 80, 84, 88, 92, 96], dtype=int32)>,\n",
              " <tf.Tensor: shape=(10,), dtype=int32, numpy=array([ 70,  74,  78,  82,  86,  90,  94,  98, 102, 106], dtype=int32)>)"
            ]
          },
          "metadata": {},
          "execution_count": 8
        }
      ]
    },
    {
      "cell_type": "code",
      "source": [
        "# Visualize \n",
        "plt.figure(figsize=(10, 7))\n",
        "plt.plot(X_train, y_train, c='b', label=\"Training Data\")\n",
        "plt.plot(X_test, y_test, c='g', label=\"Testing Data\")\n",
        "plt.legend()"
      ],
      "metadata": {
        "colab": {
          "base_uri": "https://localhost:8080/",
          "height": 445
        },
        "id": "GcFlHx3Ziz1P",
        "outputId": "764f936a-16c8-4dd1-d2d9-510ee45710f9"
      },
      "execution_count": null,
      "outputs": [
        {
          "output_type": "execute_result",
          "data": {
            "text/plain": [
              "<matplotlib.legend.Legend at 0x7f28ccbe30d0>"
            ]
          },
          "metadata": {},
          "execution_count": 9
        },
        {
          "output_type": "display_data",
          "data": {
            "text/plain": [
              "<Figure size 720x504 with 1 Axes>"
            ],
            "image/png": "[encoded data removed]"
          },
          "metadata": {
            "needs_background": "light"
          }
        }
      ]
    },
    {
      "cell_type": "code",
      "source": [
        "np.cos((np.pi)/2)"
      ],
      "metadata": {
        "colab": {
          "base_uri": "https://localhost:8080/"
        },
        "id": "6yFEBhQZjVqy",
        "outputId": "52666d2b-2b07-4c17-fd7e-b55d10a391bd"
      },
      "execution_count": null,
      "outputs": [
        {
          "output_type": "execute_result",
          "data": {
            "text/plain": [
              "6.123233995736766e-17"
            ]
          },
          "metadata": {},
          "execution_count": 15
        }
      ]
    },
    {
      "cell_type": "code",
      "source": [
        "a = np.matrix([, ] , [ , ])"
      ],
      "metadata": {
        "colab": {
          "base_uri": "https://localhost:8080/",
          "height": 351
        },
        "id": "91I4qVwjJ30e",
        "outputId": "373b8dfa-d477-4211-fedb-d47b46e94a8f"
      },
      "execution_count": null,
      "outputs": [
        {
          "output_type": "error",
          "ename": "TypeError",
          "evalue": "ignored",
          "traceback": [
            "\u001b[0;31m---------------------------------------------------------------------------\u001b[0m",
            "\u001b[0;31mTypeError\u001b[0m                                 Traceback (most recent call last)",
            "\u001b[0;32m<ipython-input-16-9047fcbd4ff0>\u001b[0m in \u001b[0;36m<module>\u001b[0;34m\u001b[0m\n\u001b[0;32m----> 1\u001b[0;31m \u001b[0ma\u001b[0m \u001b[0;34m=\u001b[0m \u001b[0mnp\u001b[0m\u001b[0;34m.\u001b[0m\u001b[0mmatrix\u001b[0m\u001b[0;34m(\u001b[0m\u001b[0;34m[\u001b[0m\u001b[0mnp\u001b[0m\u001b[0;34m.\u001b[0m\u001b[0mcos\u001b[0m\u001b[0;34m(\u001b[0m\u001b[0;36m90\u001b[0m\u001b[0;34m*\u001b[0m \u001b[0mnp\u001b[0m\u001b[0;34m.\u001b[0m\u001b[0mpi\u001b[0m\u001b[0;34m/\u001b[0m\u001b[0;36m180\u001b[0m\u001b[0;34m)\u001b[0m\u001b[0;34m,\u001b[0m \u001b[0mnp\u001b[0m\u001b[0;34m.\u001b[0m\u001b[0msin\u001b[0m\u001b[0;34m(\u001b[0m\u001b[0;36m90\u001b[0m\u001b[0;34m*\u001b[0m \u001b[0mnp\u001b[0m\u001b[0;34m.\u001b[0m\u001b[0mpi\u001b[0m\u001b[0;34m/\u001b[0m\u001b[0;36m180\u001b[0m\u001b[0;34m)\u001b[0m\u001b[0;34m]\u001b[0m \u001b[0;34m,\u001b[0m \u001b[0;34m[\u001b[0m \u001b[0mnp\u001b[0m\u001b[0;34m.\u001b[0m\u001b[0msin\u001b[0m\u001b[0;34m(\u001b[0m\u001b[0;36m90\u001b[0m \u001b[0;34m*\u001b[0m \u001b[0mnp\u001b[0m\u001b[0;34m.\u001b[0m\u001b[0mpi\u001b[0m\u001b[0;34m/\u001b[0m\u001b[0;36m180\u001b[0m\u001b[0;34m)\u001b[0m\u001b[0;34m,\u001b[0m \u001b[0mnp\u001b[0m\u001b[0;34m.\u001b[0m\u001b[0mcos\u001b[0m\u001b[0;34m(\u001b[0m\u001b[0;36m90\u001b[0m \u001b[0;34m*\u001b[0m\u001b[0mnp\u001b[0m\u001b[0;34m.\u001b[0m\u001b[0mpi\u001b[0m\u001b[0;34m/\u001b[0m\u001b[0;36m180\u001b[0m\u001b[0;34m)\u001b[0m\u001b[0;34m]\u001b[0m\u001b[0;34m)\u001b[0m\u001b[0;34m\u001b[0m\u001b[0;34m\u001b[0m\u001b[0m\n\u001b[0m",
            "\u001b[0;32m/usr/local/lib/python3.7/dist-packages/numpy/matrixlib/defmatrix.py\u001b[0m in \u001b[0;36m__new__\u001b[0;34m(subtype, data, dtype, copy)\u001b[0m\n\u001b[1;32m    143\u001b[0m \u001b[0;34m\u001b[0m\u001b[0m\n\u001b[1;32m    144\u001b[0m         \u001b[0;31m# now convert data to an array\u001b[0m\u001b[0;34m\u001b[0m\u001b[0;34m\u001b[0m\u001b[0;34m\u001b[0m\u001b[0m\n\u001b[0;32m--> 145\u001b[0;31m         \u001b[0marr\u001b[0m \u001b[0;34m=\u001b[0m \u001b[0mN\u001b[0m\u001b[0;34m.\u001b[0m\u001b[0marray\u001b[0m\u001b[0;34m(\u001b[0m\u001b[0mdata\u001b[0m\u001b[0;34m,\u001b[0m \u001b[0mdtype\u001b[0m\u001b[0;34m=\u001b[0m\u001b[0mdtype\u001b[0m\u001b[0;34m,\u001b[0m \u001b[0mcopy\u001b[0m\u001b[0;34m=\u001b[0m\u001b[0mcopy\u001b[0m\u001b[0;34m)\u001b[0m\u001b[0;34m\u001b[0m\u001b[0;34m\u001b[0m\u001b[0m\n\u001b[0m\u001b[1;32m    146\u001b[0m         \u001b[0mndim\u001b[0m \u001b[0;34m=\u001b[0m \u001b[0marr\u001b[0m\u001b[0;34m.\u001b[0m\u001b[0mndim\u001b[0m\u001b[0;34m\u001b[0m\u001b[0;34m\u001b[0m\u001b[0m\n\u001b[1;32m    147\u001b[0m         \u001b[0mshape\u001b[0m \u001b[0;34m=\u001b[0m \u001b[0marr\u001b[0m\u001b[0;34m.\u001b[0m\u001b[0mshape\u001b[0m\u001b[0;34m\u001b[0m\u001b[0;34m\u001b[0m\u001b[0m\n",
            "\u001b[0;31mTypeError\u001b[0m: Field elements must be 2- or 3-tuples, got '1.0'"
          ]
        }
      ]
    },
    {
      "cell_type": "code",
      "source": [
        "\n",
        "\n",
        "from math import cos, sin\n",
        "\n",
        "import numpy as np\n",
        "\n",
        "theta = np.deg2rad(90)\n",
        "\n",
        "rot = np.array([[cos(theta), -sin(theta)], [sin(theta), cos(theta)]])\n",
        "\n",
        "v = np.array([0,1])\n",
        "w = np.array([0,1])\n",
        "vec = [v,w]\n",
        "rotvec = np.dot(rot,vec)\n",
        "\n",
        "plt.figure(figsize=(10,7))\n",
        "plt.plot(v,w,c='b')\n",
        "plt.plot(rotvec[0],rotvec[1], c='g', linewidth=4)\n",
        "\n",
        "\n",
        "plt.legend()"
      ],
      "metadata": {
        "colab": {
          "base_uri": "https://localhost:8080/",
          "height": 462
        },
        "id": "Ek2XDQ74KBJG",
        "outputId": "d0acf898-5f91-4f6c-a3ef-159560823cd7"
      },
      "execution_count": null,
      "outputs": [
        {
          "output_type": "stream",
          "name": "stderr",
          "text": [
            "WARNING:matplotlib.legend:No handles with labels found to put in legend.\n"
          ]
        },
        {
          "output_type": "execute_result",
          "data": {
            "text/plain": [
              "<matplotlib.legend.Legend at 0x7f28c99d1210>"
            ]
          },
          "metadata": {},
          "execution_count": 40
        },
        {
          "output_type": "display_data",
          "data": {
            "text/plain": [
              "<Figure size 720x504 with 1 Axes>"
            ],
            "image/png": "[encoded data removed]"
          },
          "metadata": {
            "needs_background": "light"
          }
        }
      ]
    },
    {
      "cell_type": "code",
      "source": [
        "matrix = [[0,1],[0,1]]"
      ],
      "metadata": {
        "id": "NOppnlqhKCCY"
      },
      "execution_count": null,
      "outputs": []
    },
    {
      "cell_type": "code",
      "source": [
        "matrix"
      ],
      "metadata": {
        "colab": {
          "base_uri": "https://localhost:8080/"
        },
        "id": "nwagVQKmVjhX",
        "outputId": "091a3fe1-f301-4429-fb64-c9d8af41b6cb"
      },
      "execution_count": null,
      "outputs": [
        {
          "output_type": "execute_result",
          "data": {
            "text/plain": [
              "[[0, 1], [0, 1]]"
            ]
          },
          "metadata": {},
          "execution_count": 42
        }
      ]
    },
    {
      "cell_type": "code",
      "source": [
        "np.multiply(matrix,2)"
      ],
      "metadata": {
        "colab": {
          "base_uri": "https://localhost:8080/"
        },
        "id": "4g060FG4VkiQ",
        "outputId": "275dc9ee-21a2-426d-f50a-fd4aed21e24d"
      },
      "execution_count": null,
      "outputs": [
        {
          "output_type": "execute_result",
          "data": {
            "text/plain": [
              "array([[0, 2],\n",
              "       [0, 2]])"
            ]
          },
          "metadata": {},
          "execution_count": 44
        }
      ]
    },
    {
      "cell_type": "code",
      "source": [
        ""
      ],
      "metadata": {
        "id": "2-336Wd3Vmdd"
      },
      "execution_count": null,
      "outputs": []
    }
  ]
}